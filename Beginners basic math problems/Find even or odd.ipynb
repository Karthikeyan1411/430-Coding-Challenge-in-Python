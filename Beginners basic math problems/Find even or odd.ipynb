{
 "cells": [
  {
   "cell_type": "code",
   "execution_count": 4,
   "id": "b2299b78",
   "metadata": {},
   "outputs": [
    {
     "name": "stdout",
     "output_type": "stream",
     "text": [
      "1\n",
      "5\n",
      "odd\n"
     ]
    }
   ],
   "source": [
    "class Solution:\n",
    "    def oddEven(ob,N):\n",
    "        #code here\n",
    "        if N%2==0:\n",
    "            return \"even\"\n",
    "        else:\n",
    "            return \"odd\"\n",
    "        \n",
    "        \n",
    "if __name__ == '__main__':\n",
    "    t = int(input())\n",
    "    for _ in range(t):\n",
    "        N = int(input())\n",
    "        \n",
    "        ob = Solution()\n",
    "        print(ob.oddEven(N))"
   ]
  },
  {
   "cell_type": "code",
   "execution_count": null,
   "id": "1837f615",
   "metadata": {},
   "outputs": [],
   "source": []
  }
 ],
 "metadata": {
  "kernelspec": {
   "display_name": "Python 3",
   "language": "python",
   "name": "python3"
  },
  "language_info": {
   "codemirror_mode": {
    "name": "ipython",
    "version": 3
   },
   "file_extension": ".py",
   "mimetype": "text/x-python",
   "name": "python",
   "nbconvert_exporter": "python",
   "pygments_lexer": "ipython3",
   "version": "3.8.8"
  }
 },
 "nbformat": 4,
 "nbformat_minor": 5
}
