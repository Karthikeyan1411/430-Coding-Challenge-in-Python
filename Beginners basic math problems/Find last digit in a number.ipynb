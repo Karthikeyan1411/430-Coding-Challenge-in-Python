{
 "cells": [
  {
   "cell_type": "code",
   "execution_count": 11,
   "id": "79997a83",
   "metadata": {},
   "outputs": [
    {
     "name": "stdout",
     "output_type": "stream",
     "text": [
      "2\n",
      "2 3\n",
      "8\n",
      "12 12\n",
      "6\n"
     ]
    }
   ],
   "source": [
    "class Solution:\n",
    "    def getLastDigit(self, a, b):\n",
    "        #code here\n",
    "        a = int(a)\n",
    "        b = int(b)\n",
    "        \n",
    "        if a==0  and b==0:\n",
    "            return 1\n",
    "        if b==0:\n",
    "            return 1\n",
    "        if a==0:\n",
    "            return 0\n",
    "        \n",
    "        if b%4==0:\n",
    "            res = 4\n",
    "        else:\n",
    "            res = b%4\n",
    "        \n",
    "        c = pow(a,res)\n",
    "        return c%10\n",
    "    \n",
    "    \n",
    "    \n",
    "if __name__ == '__main__':\n",
    "    t = int(input())\n",
    "    for _ in range(t):\n",
    "        a,b = map(str, input().split())\n",
    "        \n",
    "        ob = Solution()\n",
    "        print(ob.getLastDigit(a,b))"
   ]
  },
  {
   "cell_type": "code",
   "execution_count": null,
   "id": "d3e37f1c",
   "metadata": {},
   "outputs": [],
   "source": []
  }
 ],
 "metadata": {
  "kernelspec": {
   "display_name": "Python 3",
   "language": "python",
   "name": "python3"
  },
  "language_info": {
   "codemirror_mode": {
    "name": "ipython",
    "version": 3
   },
   "file_extension": ".py",
   "mimetype": "text/x-python",
   "name": "python",
   "nbconvert_exporter": "python",
   "pygments_lexer": "ipython3",
   "version": "3.8.8"
  }
 },
 "nbformat": 4,
 "nbformat_minor": 5
}
