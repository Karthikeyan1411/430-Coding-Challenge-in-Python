{
 "cells": [
  {
   "cell_type": "code",
   "execution_count": 2,
   "id": "a07c9b06",
   "metadata": {},
   "outputs": [
    {
     "name": "stdout",
     "output_type": "stream",
     "text": [
      "1\n",
      "26\n",
      "675302810\n"
     ]
    }
   ],
   "source": [
    "class Solution:\n",
    "    def power(self,N,R):\n",
    "        #code here\n",
    "        \n",
    "        mod = 1000000007\n",
    "        ans = 1\n",
    "        \n",
    "        while R>0:\n",
    "            if R%2 == 0:\n",
    "                N = (N*N)%mod\n",
    "                R//=2\n",
    "            else:\n",
    "                ans = (ans*N)%mod\n",
    "                R-=1\n",
    "        return (ans%mod)\n",
    "        \n",
    "\n",
    "import math\n",
    "def main():\n",
    "    T = int(input())\n",
    "    while(T>0):\n",
    "        N = input()\n",
    "        R = N[::-1]\n",
    "        \n",
    "        ob = Solution()\n",
    "        ans = ob.power(int(N),int(R))\n",
    "        print(ans)\n",
    "        \n",
    "        T-=1\n",
    "\n",
    "if __name__ == \"__main__\":\n",
    "    main()"
   ]
  },
  {
   "cell_type": "code",
   "execution_count": null,
   "id": "04a43aaa",
   "metadata": {},
   "outputs": [],
   "source": []
  }
 ],
 "metadata": {
  "kernelspec": {
   "display_name": "Python 3",
   "language": "python",
   "name": "python3"
  },
  "language_info": {
   "codemirror_mode": {
    "name": "ipython",
    "version": 3
   },
   "file_extension": ".py",
   "mimetype": "text/x-python",
   "name": "python",
   "nbconvert_exporter": "python",
   "pygments_lexer": "ipython3",
   "version": "3.8.8"
  }
 },
 "nbformat": 4,
 "nbformat_minor": 5
}
