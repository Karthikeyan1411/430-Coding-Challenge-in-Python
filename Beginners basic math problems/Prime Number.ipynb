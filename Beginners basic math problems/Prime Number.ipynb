{
 "cells": [
  {
   "cell_type": "code",
   "execution_count": 12,
   "id": "1bba6807",
   "metadata": {},
   "outputs": [
    {
     "name": "stdout",
     "output_type": "stream",
     "text": [
      "1\n",
      "5\n",
      "1\n"
     ]
    }
   ],
   "source": [
    "from math import sqrt \n",
    "class Solution:\n",
    "    def isPrime(self, N):\n",
    "        #code here\n",
    "        if N<=1:\n",
    "            return 0 #False\n",
    "        for i in range(2, int(sqrt(N))+1):\n",
    "            if(N%i==0):\n",
    "                return 0 #False\n",
    "        return 1 #True\n",
    "        \n",
    "        \n",
    "if __name__ == \"__main__\":\n",
    "    t = int(input())\n",
    "    for _ in range(t):\n",
    "        N = int(input())\n",
    "        \n",
    "        ob = Solution()\n",
    "        print(ob.isPrime(N))"
   ]
  },
  {
   "cell_type": "code",
   "execution_count": null,
   "id": "aed80e45",
   "metadata": {},
   "outputs": [],
   "source": []
  }
 ],
 "metadata": {
  "kernelspec": {
   "display_name": "Python 3",
   "language": "python",
   "name": "python3"
  },
  "language_info": {
   "codemirror_mode": {
    "name": "ipython",
    "version": 3
   },
   "file_extension": ".py",
   "mimetype": "text/x-python",
   "name": "python",
   "nbconvert_exporter": "python",
   "pygments_lexer": "ipython3",
   "version": "3.8.8"
  }
 },
 "nbformat": 4,
 "nbformat_minor": 5
}
