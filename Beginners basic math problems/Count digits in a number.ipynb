{
 "cells": [
  {
   "cell_type": "code",
   "execution_count": 4,
   "id": "4a936e79",
   "metadata": {},
   "outputs": [
    {
     "name": "stdout",
     "output_type": "stream",
     "text": [
      "1\n",
      "23\n",
      "0\n"
     ]
    }
   ],
   "source": [
    "class Solution:\n",
    "    def evenlyDivides(self, N):\n",
    "        #code here\n",
    "        count = 0\n",
    "        temp = N\n",
    "        \n",
    "        while temp!=0:\n",
    "            d = temp%10\n",
    "            temp//=10\n",
    "            \n",
    "            if d>0 and N%d==0:\n",
    "                count += 1\n",
    "        \n",
    "        return count\n",
    "\n",
    "if __name__ == \"__main__\":\n",
    "    t = int(input())\n",
    "    for _ in range(t):\n",
    "        N = int(input())\n",
    "        \n",
    "        ob = Solution()\n",
    "        print(ob.evenlyDivides(N))"
   ]
  },
  {
   "cell_type": "code",
   "execution_count": null,
   "id": "46fea534",
   "metadata": {},
   "outputs": [],
   "source": []
  }
 ],
 "metadata": {
  "kernelspec": {
   "display_name": "Python 3",
   "language": "python",
   "name": "python3"
  },
  "language_info": {
   "codemirror_mode": {
    "name": "ipython",
    "version": 3
   },
   "file_extension": ".py",
   "mimetype": "text/x-python",
   "name": "python",
   "nbconvert_exporter": "python",
   "pygments_lexer": "ipython3",
   "version": "3.8.8"
  }
 },
 "nbformat": 4,
 "nbformat_minor": 5
}
