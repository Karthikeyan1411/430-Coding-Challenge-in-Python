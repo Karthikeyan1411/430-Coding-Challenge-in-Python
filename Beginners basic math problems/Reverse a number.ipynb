{
 "cells": [
  {
   "cell_type": "code",
   "execution_count": 2,
   "id": "9427b857",
   "metadata": {},
   "outputs": [
    {
     "name": "stdout",
     "output_type": "stream",
     "text": [
      "2\n",
      "65896\n",
      "69856\n",
      "14112000\n",
      "21141\n"
     ]
    }
   ],
   "source": [
    "class Solution:\n",
    "    def reverse_digit(self, n):\n",
    "        #code here\n",
    "        reverse = 0\n",
    "        temp = n\n",
    "        \n",
    "        while temp!=0:\n",
    "            d = temp%10\n",
    "            reverse = reverse*10 + d\n",
    "            temp//=10\n",
    "        \n",
    "        return reverse\n",
    "\n",
    "if __name__ == \"__main__\":\n",
    "    t = int(input())\n",
    "    for _ in range(t):\n",
    "        n = int(input())\n",
    "        \n",
    "        ob = Solution()\n",
    "        print(ob.reverse_digit(n))"
   ]
  },
  {
   "cell_type": "code",
   "execution_count": null,
   "id": "1807e8c1",
   "metadata": {},
   "outputs": [],
   "source": []
  }
 ],
 "metadata": {
  "kernelspec": {
   "display_name": "Python 3",
   "language": "python",
   "name": "python3"
  },
  "language_info": {
   "codemirror_mode": {
    "name": "ipython",
    "version": 3
   },
   "file_extension": ".py",
   "mimetype": "text/x-python",
   "name": "python",
   "nbconvert_exporter": "python",
   "pygments_lexer": "ipython3",
   "version": "3.8.8"
  }
 },
 "nbformat": 4,
 "nbformat_minor": 5
}
