{
 "cells": [
  {
   "cell_type": "code",
   "execution_count": 8,
   "id": "e95d5baf",
   "metadata": {},
   "outputs": [
    {
     "name": "stdout",
     "output_type": "stream",
     "text": [
      "1\n",
      "20\n",
      "[1, 2, 4, 5, 10, 20]\n"
     ]
    }
   ],
   "source": [
    "from typing import List\n",
    "from math import * #importing math for sqrt\n",
    "\n",
    "def printDivisors(n: int) -> List[int]:\n",
    "    #code here\n",
    "    divisors = list()\n",
    "    for i in range(1, ceil(sqrt(n+1))):\n",
    "        if n%i == 0:\n",
    "            divisors.append(i)\n",
    "            if n//i not in divisors:\n",
    "                divisors.append(n//i)\n",
    "    divisors.sort()\n",
    "    return divisors\n",
    "    \n",
    "    pass\n",
    "\n",
    "if __name__ == \"__main__\":\n",
    "    t = int(input())\n",
    "    for _ in range(t):\n",
    "        n = int(input())\n",
    "        \n",
    "        res = printDivisors(n)\n",
    "        print(res)"
   ]
  },
  {
   "cell_type": "code",
   "execution_count": null,
   "id": "d5ae02f2",
   "metadata": {},
   "outputs": [],
   "source": []
  }
 ],
 "metadata": {
  "kernelspec": {
   "display_name": "Python 3",
   "language": "python",
   "name": "python3"
  },
  "language_info": {
   "codemirror_mode": {
    "name": "ipython",
    "version": 3
   },
   "file_extension": ".py",
   "mimetype": "text/x-python",
   "name": "python",
   "nbconvert_exporter": "python",
   "pygments_lexer": "ipython3",
   "version": "3.8.8"
  }
 },
 "nbformat": 4,
 "nbformat_minor": 5
}
