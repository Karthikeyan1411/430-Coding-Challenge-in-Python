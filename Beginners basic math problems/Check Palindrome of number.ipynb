{
 "cells": [
  {
   "cell_type": "code",
   "execution_count": 7,
   "id": "01d4ce48",
   "metadata": {},
   "outputs": [
    {
     "name": "stdout",
     "output_type": "stream",
     "text": [
      "1\n",
      "23\n",
      "No! Palindrome\n"
     ]
    }
   ],
   "source": [
    "class Solution:\n",
    "    def is_palindrome(self, n):\n",
    "        #code here\n",
    "        n = str(n)\n",
    "        rev = ''.join(reversed(n))\n",
    "        if(n==rev):\n",
    "            return \"Yes! Palindrome\"\n",
    "        else:\n",
    "            return \"No! Palindrome\"\n",
    "        \n",
    "if __name__ == \"__main__\":\n",
    "    t = int(input())\n",
    "    for _ in range(t):\n",
    "        n = input()\n",
    "        \n",
    "        ob = Solution()\n",
    "        ans = ob.is_palindrome(n)\n",
    "        print(ans)"
   ]
  },
  {
   "cell_type": "code",
   "execution_count": null,
   "id": "57d3d7f7",
   "metadata": {},
   "outputs": [],
   "source": []
  }
 ],
 "metadata": {
  "kernelspec": {
   "display_name": "Python 3",
   "language": "python",
   "name": "python3"
  },
  "language_info": {
   "codemirror_mode": {
    "name": "ipython",
    "version": 3
   },
   "file_extension": ".py",
   "mimetype": "text/x-python",
   "name": "python",
   "nbconvert_exporter": "python",
   "pygments_lexer": "ipython3",
   "version": "3.8.8"
  }
 },
 "nbformat": 4,
 "nbformat_minor": 5
}
