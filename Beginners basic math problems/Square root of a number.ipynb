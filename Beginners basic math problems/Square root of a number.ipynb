{
 "cells": [
  {
   "cell_type": "code",
   "execution_count": 3,
   "id": "c98532d7",
   "metadata": {},
   "outputs": [
    {
     "name": "stdout",
     "output_type": "stream",
     "text": [
      "2\n",
      "25\n",
      "5\n",
      "2\n",
      "1\n"
     ]
    }
   ],
   "source": [
    "class Solution:\n",
    "    def floorSqrt(self, x):\n",
    "        #code here\n",
    "        if x==0 or x==1:\n",
    "            return x\n",
    "        i=1\n",
    "        res=1\n",
    "        while(res<=x):\n",
    "            i+=1\n",
    "            res = i*i\n",
    "        return i-1\n",
    "\n",
    "        \n",
    "import math\n",
    "\n",
    "def main():\n",
    "    t = int(input())\n",
    "    for _ in range(t):\n",
    "        x = int(input())\n",
    "        \n",
    "        print(Solution().floorSqrt(x))\n",
    "        \n",
    "        t -= 1\n",
    "\n",
    "if __name__ == \"__main__\":\n",
    "    main()"
   ]
  },
  {
   "cell_type": "code",
   "execution_count": null,
   "id": "b5a40828",
   "metadata": {},
   "outputs": [],
   "source": []
  }
 ],
 "metadata": {
  "kernelspec": {
   "display_name": "Python 3",
   "language": "python",
   "name": "python3"
  },
  "language_info": {
   "codemirror_mode": {
    "name": "ipython",
    "version": 3
   },
   "file_extension": ".py",
   "mimetype": "text/x-python",
   "name": "python",
   "nbconvert_exporter": "python",
   "pygments_lexer": "ipython3",
   "version": "3.8.8"
  }
 },
 "nbformat": 4,
 "nbformat_minor": 5
}
