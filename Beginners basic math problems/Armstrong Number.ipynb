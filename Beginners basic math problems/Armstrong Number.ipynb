{
 "cells": [
  {
   "cell_type": "code",
   "execution_count": 2,
   "id": "03f418ce",
   "metadata": {},
   "outputs": [
    {
     "name": "stdout",
     "output_type": "stream",
     "text": [
      "1\n",
      "153\n",
      "Yes! Armstrong\n"
     ]
    }
   ],
   "source": [
    "class Solution:\n",
    "    def armstrongNumber(self, N):\n",
    "        #code here\n",
    "        temp = n\n",
    "        sum = 0\n",
    "        while temp>0:\n",
    "            d = temp%10\n",
    "            sum+= d**3\n",
    "            temp//=10\n",
    "        if n==sum:\n",
    "            return \"Yes! Armstrong\"\n",
    "        else:\n",
    "            return \"No! Armstrong\"\n",
    "        \n",
    "        \n",
    "if __name__ == \"__main__\":\n",
    "    t = int(input())\n",
    "    for _ in range(t):\n",
    "        n = int(input())\n",
    "        \n",
    "        ob = Solution()\n",
    "        print(ob.armstrongNumber(n))"
   ]
  },
  {
   "cell_type": "code",
   "execution_count": null,
   "id": "3e1d06c5",
   "metadata": {},
   "outputs": [],
   "source": []
  }
 ],
 "metadata": {
  "kernelspec": {
   "display_name": "Python 3",
   "language": "python",
   "name": "python3"
  },
  "language_info": {
   "codemirror_mode": {
    "name": "ipython",
    "version": 3
   },
   "file_extension": ".py",
   "mimetype": "text/x-python",
   "name": "python",
   "nbconvert_exporter": "python",
   "pygments_lexer": "ipython3",
   "version": "3.8.8"
  }
 },
 "nbformat": 4,
 "nbformat_minor": 5
}
