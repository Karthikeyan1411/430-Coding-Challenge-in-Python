{
 "cells": [
  {
   "cell_type": "code",
   "execution_count": 1,
   "id": "ba359f53",
   "metadata": {},
   "outputs": [
    {
     "name": "stdout",
     "output_type": "stream",
     "text": [
      "2\n",
      "5\n",
      "1 2 3 5\n",
      "4\n",
      "10\n",
      "6 1 2 8 3 4 7 10 5\n",
      "9\n"
     ]
    }
   ],
   "source": [
    "class Solution:\n",
    "    def missingNumber(self, array, n):\n",
    "        #code here\n",
    "        summation = (n*(n+1))//2\n",
    "        s = sum(array)\n",
    "        miss = summation - s\n",
    "        return miss\n",
    "    \n",
    "\n",
    "if __name__ == \"__main__\":\n",
    "    t = int(input())\n",
    "    for _ in range(t):\n",
    "        n = int(input())\n",
    "        \n",
    "        a = list(map(int, input().strip().split()))\n",
    "        \n",
    "        ob = Solution()\n",
    "        \n",
    "        print(ob.missingNumber(a, n))"
   ]
  },
  {
   "cell_type": "code",
   "execution_count": null,
   "id": "6e68a6d8",
   "metadata": {},
   "outputs": [],
   "source": []
  }
 ],
 "metadata": {
  "kernelspec": {
   "display_name": "Python 3",
   "language": "python",
   "name": "python3"
  },
  "language_info": {
   "codemirror_mode": {
    "name": "ipython",
    "version": 3
   },
   "file_extension": ".py",
   "mimetype": "text/x-python",
   "name": "python",
   "nbconvert_exporter": "python",
   "pygments_lexer": "ipython3",
   "version": "3.8.8"
  }
 },
 "nbformat": 4,
 "nbformat_minor": 5
}
