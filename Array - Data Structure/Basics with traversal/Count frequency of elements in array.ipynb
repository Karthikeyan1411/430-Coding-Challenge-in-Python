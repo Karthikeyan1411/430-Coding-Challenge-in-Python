{
 "cells": [
  {
   "cell_type": "code",
   "execution_count": 1,
   "id": "2cbda968",
   "metadata": {},
   "outputs": [
    {
     "name": "stdout",
     "output_type": "stream",
     "text": [
      "1\n",
      "5\n",
      "2 3 2 3 5\n",
      "5\n",
      "0 2 2 0 1 \n"
     ]
    }
   ],
   "source": [
    "class Solution:\n",
    "    def frequencyCount(self, arr, N, P):\n",
    "        #code here\n",
    "        f = [0] * N\n",
    "        for i in arr:\n",
    "            if 1 <= i <= N:\n",
    "                f[i-1] += 1\n",
    "        arr[:] = f\n",
    "        return arr\n",
    "        \n",
    "import math\n",
    "if __name__ == \"__main__\":\n",
    "    t = int(input())\n",
    "    while(t>0):\n",
    "        N = int(input())\n",
    "        arr = list(map(int, input().strip().split()))\n",
    "        P = int(input())\n",
    "        \n",
    "        ob = Solution()\n",
    "        ob.frequencyCount(arr, N, P)\n",
    "        for i in arr:\n",
    "            print(i, end=\" \")\n",
    "        print()\n",
    "        \n",
    "        t -= 1"
   ]
  },
  {
   "cell_type": "code",
   "execution_count": null,
   "id": "086271ac",
   "metadata": {},
   "outputs": [],
   "source": []
  }
 ],
 "metadata": {
  "kernelspec": {
   "display_name": "Python 3",
   "language": "python",
   "name": "python3"
  },
  "language_info": {
   "codemirror_mode": {
    "name": "ipython",
    "version": 3
   },
   "file_extension": ".py",
   "mimetype": "text/x-python",
   "name": "python",
   "nbconvert_exporter": "python",
   "pygments_lexer": "ipython3",
   "version": "3.8.8"
  }
 },
 "nbformat": 4,
 "nbformat_minor": 5
}
