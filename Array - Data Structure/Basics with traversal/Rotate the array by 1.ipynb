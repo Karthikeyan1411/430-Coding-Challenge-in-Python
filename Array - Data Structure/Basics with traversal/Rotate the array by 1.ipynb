{
 "cells": [
  {
   "cell_type": "code",
   "execution_count": 5,
   "id": "5a65f33f",
   "metadata": {},
   "outputs": [
    {
     "name": "stdout",
     "output_type": "stream",
     "text": [
      "2\n",
      "5\n",
      "1 2 3 4 5\n",
      "5 1 2 3 4\n",
      "8\n",
      "9 8 7 6 4 2 1 3\n",
      "3 9 8 7 6 4 2 1\n"
     ]
    }
   ],
   "source": [
    "class Solution:\n",
    "    def rotate(self, arr, n):\n",
    "        #code here\n",
    "        length = len(arr)\n",
    "        last_element = arr[length - 1]\n",
    "        \n",
    "        for i in range(length-1, 0, -1):  # initialization, condition, iteration\n",
    "            arr[i] = arr[i-1]\n",
    "        arr[0] = last_element\n",
    "\n",
    "def main():\n",
    "    t = int(input())\n",
    "    for _ in range(t):\n",
    "        n = int(input())\n",
    "        \n",
    "        a = list(map(int, input().strip().split()))\n",
    "        \n",
    "        ob = Solution()\n",
    "        ob.rotate(a,n)\n",
    "        print(*a)\n",
    "        \n",
    "        t -= 1\n",
    "\n",
    "if __name__ == \"__main__\":\n",
    "    main()"
   ]
  },
  {
   "cell_type": "code",
   "execution_count": null,
   "id": "401a08bb",
   "metadata": {},
   "outputs": [],
   "source": []
  }
 ],
 "metadata": {
  "kernelspec": {
   "display_name": "Python 3",
   "language": "python",
   "name": "python3"
  },
  "language_info": {
   "codemirror_mode": {
    "name": "ipython",
    "version": 3
   },
   "file_extension": ".py",
   "mimetype": "text/x-python",
   "name": "python",
   "nbconvert_exporter": "python",
   "pygments_lexer": "ipython3",
   "version": "3.8.8"
  }
 },
 "nbformat": 4,
 "nbformat_minor": 5
}
