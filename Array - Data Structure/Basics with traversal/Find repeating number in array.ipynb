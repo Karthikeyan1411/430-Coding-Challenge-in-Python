{
 "cells": [
  {
   "cell_type": "code",
   "execution_count": 4,
   "id": "0f6629c5",
   "metadata": {},
   "outputs": [
    {
     "name": "stdout",
     "output_type": "stream",
     "text": [
      "1\n",
      "10\n",
      "9 8 2 6 1 8 5 3 4 7\n",
      "8\n"
     ]
    }
   ],
   "source": [
    "class Solution:\n",
    "    def findRepeating(self, arr, N):\n",
    "        #code here\n",
    "        arr.sort()\n",
    "        for i in range(1, N):\n",
    "            if(arr[i]!=i+1):\n",
    "                return arr[i]\n",
    "            \n",
    "if __name__ == \"__main__\":\n",
    "    t = int(input())\n",
    "    for _ in range(t):\n",
    "        n = int(input())\n",
    "        \n",
    "        a = list(map(int, input().strip().split()))\n",
    "        \n",
    "        ob = Solution()\n",
    "        \n",
    "        print(ob.findRepeating(a, n))"
   ]
  },
  {
   "cell_type": "code",
   "execution_count": null,
   "id": "498db9ab",
   "metadata": {},
   "outputs": [],
   "source": []
  }
 ],
 "metadata": {
  "kernelspec": {
   "display_name": "Python 3",
   "language": "python",
   "name": "python3"
  },
  "language_info": {
   "codemirror_mode": {
    "name": "ipython",
    "version": 3
   },
   "file_extension": ".py",
   "mimetype": "text/x-python",
   "name": "python",
   "nbconvert_exporter": "python",
   "pygments_lexer": "ipython3",
   "version": "3.8.8"
  }
 },
 "nbformat": 4,
 "nbformat_minor": 5
}
