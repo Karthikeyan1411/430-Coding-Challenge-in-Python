{
 "cells": [
  {
   "cell_type": "code",
   "execution_count": 2,
   "id": "1f0ac224",
   "metadata": {},
   "outputs": [
    {
     "name": "stdout",
     "output_type": "stream",
     "text": [
      "2\n",
      "5\n",
      "2 4 1 3 5\n",
      "3\n",
      "2\n",
      "10 2\n",
      "-1\n"
     ]
    }
   ],
   "source": [
    "class Solution:\n",
    "    def thirdLargest(self, a, n):\n",
    "        #code here\n",
    "        if n<3:\n",
    "            return -1 #Invalid\n",
    "        else:\n",
    "            a = sorted(a)\n",
    "            return a[-3] #return third largest element\n",
    "        \n",
    "        \n",
    "if __name__ == \"__main__\":\n",
    "    t = int(input())\n",
    "    for _ in range(t):\n",
    "        n = int(input())\n",
    "        \n",
    "        arr = list(map(int, input().strip().split()))\n",
    "        \n",
    "        print(Solution().thirdLargest(arr, n))"
   ]
  },
  {
   "cell_type": "code",
   "execution_count": null,
   "id": "3a3c0f42",
   "metadata": {},
   "outputs": [],
   "source": []
  }
 ],
 "metadata": {
  "kernelspec": {
   "display_name": "Python 3",
   "language": "python",
   "name": "python3"
  },
  "language_info": {
   "codemirror_mode": {
    "name": "ipython",
    "version": 3
   },
   "file_extension": ".py",
   "mimetype": "text/x-python",
   "name": "python",
   "nbconvert_exporter": "python",
   "pygments_lexer": "ipython3",
   "version": "3.8.8"
  }
 },
 "nbformat": 4,
 "nbformat_minor": 5
}
