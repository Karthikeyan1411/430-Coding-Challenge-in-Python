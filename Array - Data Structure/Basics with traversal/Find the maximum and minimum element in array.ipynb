{
 "cells": [
  {
   "cell_type": "code",
   "execution_count": 4,
   "id": "46994b19",
   "metadata": {},
   "outputs": [
    {
     "name": "stdout",
     "output_type": "stream",
     "text": [
      "1\n",
      "6\n",
      "3 2 1 56 10000 167\n",
      "1 10000\n"
     ]
    }
   ],
   "source": [
    "def getMinMax(a, n):\n",
    "    #code here\n",
    "    min = a[0]\n",
    "    max = a[0]\n",
    "    for i in range(1,n):\n",
    "        if a[i]>max:\n",
    "            max = a[i]\n",
    "        if a[i]<min:\n",
    "            min = a[i]\n",
    "    minmax = [min, max]\n",
    "    return minmax\n",
    "\n",
    "\n",
    "def main():\n",
    "    t = int(input())\n",
    "    #for _ in range(t):\n",
    "    while(t>0):\n",
    "        n = int(input())\n",
    "        a = [int(x) for x in input().strip().split()]\n",
    "        \n",
    "        product = getMinMax(a, n)\n",
    "        print(product[0], end=\" \")\n",
    "        print(product[1])\n",
    "        \n",
    "        t -= 1\n",
    "\n",
    "if __name__ == \"__main__\":\n",
    "    main()"
   ]
  },
  {
   "cell_type": "code",
   "execution_count": null,
   "id": "948a8b8c",
   "metadata": {},
   "outputs": [],
   "source": []
  }
 ],
 "metadata": {
  "kernelspec": {
   "display_name": "Python 3",
   "language": "python",
   "name": "python3"
  },
  "language_info": {
   "codemirror_mode": {
    "name": "ipython",
    "version": 3
   },
   "file_extension": ".py",
   "mimetype": "text/x-python",
   "name": "python",
   "nbconvert_exporter": "python",
   "pygments_lexer": "ipython3",
   "version": "3.8.8"
  }
 },
 "nbformat": 4,
 "nbformat_minor": 5
}
