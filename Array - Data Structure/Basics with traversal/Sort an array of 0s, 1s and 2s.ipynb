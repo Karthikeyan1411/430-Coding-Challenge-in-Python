{
 "cells": [
  {
   "cell_type": "code",
   "execution_count": 3,
   "id": "ce08a9f3",
   "metadata": {},
   "outputs": [
    {
     "name": "stdout",
     "output_type": "stream",
     "text": [
      "2\n",
      "5\n",
      "0 2 1 2 0\n",
      "0 0 1 2 2 \n",
      "3\n",
      "0 1 0\n",
      "0 0 1 \n"
     ]
    }
   ],
   "source": [
    "class Solution:\n",
    "    def sort012(self, arr, n):\n",
    "        #code here\n",
    "        a = arr.sort()\n",
    "        return a\n",
    "        \n",
    "if __name__ == \"__main__\":\n",
    "    t = int(input())\n",
    "    for _ in range(t):\n",
    "        n = int(input())\n",
    "        \n",
    "        arr = list(map(int, input().strip().split()))\n",
    "        \n",
    "        ob = Solution()\n",
    "        ob.sort012(arr, n)\n",
    "        for i in arr:\n",
    "            print(i, end=\" \")\n",
    "        print()"
   ]
  },
  {
   "cell_type": "code",
   "execution_count": null,
   "id": "32aa5899",
   "metadata": {},
   "outputs": [],
   "source": []
  }
 ],
 "metadata": {
  "kernelspec": {
   "display_name": "Python 3",
   "language": "python",
   "name": "python3"
  },
  "language_info": {
   "codemirror_mode": {
    "name": "ipython",
    "version": 3
   },
   "file_extension": ".py",
   "mimetype": "text/x-python",
   "name": "python",
   "nbconvert_exporter": "python",
   "pygments_lexer": "ipython3",
   "version": "3.8.8"
  }
 },
 "nbformat": 4,
 "nbformat_minor": 5
}
