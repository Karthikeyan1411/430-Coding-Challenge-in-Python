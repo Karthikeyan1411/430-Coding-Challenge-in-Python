{
 "cells": [
  {
   "cell_type": "code",
   "execution_count": 3,
   "id": "c94abd1d",
   "metadata": {},
   "outputs": [
    {
     "name": "stdout",
     "output_type": "stream",
     "text": [
      "2\n",
      "5\n",
      "1 2 5 4 0\n",
      "2 4 5 0 1\n",
      "1\n",
      "3\n",
      "1 2 5\n",
      "2 4 15\n",
      "0\n"
     ]
    }
   ],
   "source": [
    "class Solution:\n",
    "    def check(self, A, B, N):\n",
    "        #code here\n",
    "        a = sorted(A)\n",
    "        b = sorted(B)\n",
    "        \n",
    "        if a==b:                # Possibility 1\n",
    "            return True\n",
    "        if a!=b:                # Possibility 2\n",
    "            return False\n",
    "        for i in range(0, N):   # Possibility 3\n",
    "            if a[i]!=b[i]:\n",
    "                return False\n",
    "        \n",
    "        a1 = len(a)\n",
    "        b1 = len(b)\n",
    "        \n",
    "        if a1==b1:              # Possibility 4\n",
    "            return True\n",
    "        if a1!=b1:              # Possibility 5\n",
    "            return False\n",
    "\n",
    "\n",
    "if __name__ == \"__main__\":\n",
    "    t = int(input())\n",
    "    for _ in range(t):\n",
    "        N = int(input())\n",
    "        \n",
    "        A = list(map(int, input().strip().split())) # [int(x) for x in input().replace(' ',' ').strip().split(' ')]\n",
    "        B = list(map(int, input().strip().split())) # [int(x) for x in input().replace(' ',' ').strip().split(' ')]\n",
    "        \n",
    "        ob = Solution()\n",
    "        \n",
    "        if ob.check(A, B, N):\n",
    "            print(1)\n",
    "        else:\n",
    "            print(0)\n",
    "        "
   ]
  },
  {
   "cell_type": "code",
   "execution_count": null,
   "id": "03343f8a",
   "metadata": {},
   "outputs": [],
   "source": []
  }
 ],
 "metadata": {
  "kernelspec": {
   "display_name": "Python 3",
   "language": "python",
   "name": "python3"
  },
  "language_info": {
   "codemirror_mode": {
    "name": "ipython",
    "version": 3
   },
   "file_extension": ".py",
   "mimetype": "text/x-python",
   "name": "python",
   "nbconvert_exporter": "python",
   "pygments_lexer": "ipython3",
   "version": "3.8.8"
  }
 },
 "nbformat": 4,
 "nbformat_minor": 5
}
