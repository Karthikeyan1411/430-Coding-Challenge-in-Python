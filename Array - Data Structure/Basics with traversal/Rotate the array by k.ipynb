{
 "cells": [
  {
   "cell_type": "code",
   "execution_count": 13,
   "id": "e1e62428",
   "metadata": {},
   "outputs": [
    {
     "name": "stdout",
     "output_type": "stream",
     "text": [
      "1\n",
      "3\n",
      "1 2 3 4 5\n",
      "4 5 1 2 3\n"
     ]
    }
   ],
   "source": [
    "class Solution:\n",
    "    def rotateArray(self, arr:[], k:int) -> []:\n",
    "        #code here\n",
    "        n = len(arr)\n",
    "        if k==0:\n",
    "            return arr\n",
    "    \n",
    "        res = []\n",
    "        for i in range(k,n):\n",
    "            res.append(arr[i])\n",
    "        for i in range(0,k):\n",
    "            res.append(arr[i])\n",
    "    \n",
    "        return res\n",
    "    \n",
    "    \n",
    "if __name__ == \"__main__\":\n",
    "    t = int(input())\n",
    "    for _ in range(t):\n",
    "        k = int(input())\n",
    "        arr = list(map(int, input().strip().split()))\n",
    "        \n",
    "        ob = Solution()\n",
    "        r = ob.rotateArray(arr,k)\n",
    "        \n",
    "        print(*r)\n"
   ]
  },
  {
   "cell_type": "code",
   "execution_count": 6,
   "id": "e7f2b328",
   "metadata": {},
   "outputs": [],
   "source": [
    "# Another Method"
   ]
  },
  {
   "cell_type": "code",
   "execution_count": 24,
   "id": "3a72b7ce",
   "metadata": {},
   "outputs": [
    {
     "name": "stdout",
     "output_type": "stream",
     "text": [
      "1 2 3 4 5\n",
      "2\n",
      "4 5 1 2 3\n"
     ]
    }
   ],
   "source": [
    "class Solution:\n",
    "    def rotateArray(self, arr:[], k:int) -> []:\n",
    "        n = len(arr)\n",
    "        k = k % n  # To handle cases where k is larger than n\n",
    "\n",
    "        # Helper function to reverse a subarray\n",
    "        def reverse(start, end):\n",
    "            while start < end:\n",
    "                arr[start], arr[end] = arr[end], arr[start]\n",
    "                start += 1\n",
    "                end -= 1\n",
    "        \n",
    "        # Step 1: Reverse the entire array\n",
    "        reverse(0, n - 1)\n",
    "        # Step 2: Reverse the first k elements\n",
    "        reverse(0, k - 1)\n",
    "        # Step 3: Reverse the remaining elements after the first k elements\n",
    "        reverse(k, n - 1)\n",
    "    \n",
    "if __name__ == \"__main__\":\n",
    "    #n = int(input())\n",
    "    arr = list(map(int, input().strip().split()))\n",
    "    k = int(input())\n",
    "    \n",
    "    ob = Solution()\n",
    "    \n",
    "    r = ob.rotateArray(arr,k)\n",
    "    print(*arr)"
   ]
  },
  {
   "cell_type": "code",
   "execution_count": null,
   "id": "09eb774e",
   "metadata": {},
   "outputs": [],
   "source": []
  }
 ],
 "metadata": {
  "kernelspec": {
   "display_name": "Python 3",
   "language": "python",
   "name": "python3"
  },
  "language_info": {
   "codemirror_mode": {
    "name": "ipython",
    "version": 3
   },
   "file_extension": ".py",
   "mimetype": "text/x-python",
   "name": "python",
   "nbconvert_exporter": "python",
   "pygments_lexer": "ipython3",
   "version": "3.8.8"
  }
 },
 "nbformat": 4,
 "nbformat_minor": 5
}
