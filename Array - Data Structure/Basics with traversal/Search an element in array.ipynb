{
 "cells": [
  {
   "cell_type": "code",
   "execution_count": 8,
   "id": "e5e52dda",
   "metadata": {},
   "outputs": [
    {
     "name": "stdout",
     "output_type": "stream",
     "text": [
      "2\n",
      "4\n",
      "1 2 3 4\n",
      "3\n",
      "2\n",
      "5\n",
      "1 2 3 4 5\n",
      "4\n",
      "3\n"
     ]
    }
   ],
   "source": [
    "class Solution:\n",
    "    def search(self, arr, N, X):\n",
    "        #code here\n",
    "        if X not in arr:\n",
    "            return -1\n",
    "        else:\n",
    "            for i in range(N):\n",
    "                if X == arr[i]:\n",
    "                    return i\n",
    "\n",
    "import math\n",
    "\n",
    "def main():\n",
    "    t = int(input())\n",
    "    for _ in range(t):\n",
    "        N = int(input())\n",
    "        \n",
    "        A = [int(x) for x in input().strip().split()]\n",
    "        \n",
    "        x = int(input())  #Key Element\n",
    "        \n",
    "        ob = Solution()\n",
    "        print(ob.search(A, N, x))\n",
    "        \n",
    "        t -= 1\n",
    "\n",
    "if __name__ == \"__main__\":\n",
    "    main()"
   ]
  },
  {
   "cell_type": "code",
   "execution_count": null,
   "id": "164be743",
   "metadata": {},
   "outputs": [],
   "source": []
  }
 ],
 "metadata": {
  "kernelspec": {
   "display_name": "Python 3",
   "language": "python",
   "name": "python3"
  },
  "language_info": {
   "codemirror_mode": {
    "name": "ipython",
    "version": 3
   },
   "file_extension": ".py",
   "mimetype": "text/x-python",
   "name": "python",
   "nbconvert_exporter": "python",
   "pygments_lexer": "ipython3",
   "version": "3.8.8"
  }
 },
 "nbformat": 4,
 "nbformat_minor": 5
}
