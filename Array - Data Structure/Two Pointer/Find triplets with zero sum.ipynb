{
 "cells": [
  {
   "cell_type": "code",
   "execution_count": 1,
   "id": "54b876fb",
   "metadata": {},
   "outputs": [
    {
     "name": "stdout",
     "output_type": "stream",
     "text": [
      "2\n",
      "5\n",
      "0 -1 2 -3 1\n",
      "1\n",
      "3\n",
      "1 2 3\n",
      "0\n"
     ]
    }
   ],
   "source": [
    "class Solution:\n",
    "    def findTriplets(self, arr, n):\n",
    "        #code here\n",
    "        arr.sort()\n",
    "        for i in range(n-2):\n",
    "            l, j = i+1, n-1\n",
    "            while j>l:\n",
    "                sum = arr[i] + arr[l] + arr[j]\n",
    "                if sum>0:\n",
    "                    j = j-1\n",
    "                elif sum<0:\n",
    "                    l = l+1\n",
    "                else:\n",
    "                    return True\n",
    "                    l = l+1\n",
    "                    j = j-1\n",
    "        return False\n",
    "    \n",
    "    \n",
    "if __name__ == \"__main__\":\n",
    "    t = int(input())\n",
    "    while t>0:\n",
    "        n = int(input())\n",
    "        a = list(map(int, input().strip().split()))\n",
    "        if(Solution().findTriplets(a,n)):\n",
    "            print(1)\n",
    "        else:\n",
    "            print(0)\n",
    "        \n",
    "        t -= 1"
   ]
  },
  {
   "cell_type": "code",
   "execution_count": null,
   "id": "3dfe0633",
   "metadata": {},
   "outputs": [],
   "source": []
  }
 ],
 "metadata": {
  "kernelspec": {
   "display_name": "Python 3",
   "language": "python",
   "name": "python3"
  },
  "language_info": {
   "codemirror_mode": {
    "name": "ipython",
    "version": 3
   },
   "file_extension": ".py",
   "mimetype": "text/x-python",
   "name": "python",
   "nbconvert_exporter": "python",
   "pygments_lexer": "ipython3",
   "version": "3.8.8"
  }
 },
 "nbformat": 4,
 "nbformat_minor": 5
}
