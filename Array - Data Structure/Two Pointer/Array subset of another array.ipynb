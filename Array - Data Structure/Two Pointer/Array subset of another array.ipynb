{
 "cells": [
  {
   "cell_type": "code",
   "execution_count": 4,
   "id": "b172f9d3",
   "metadata": {},
   "outputs": [
    {
     "name": "stdout",
     "output_type": "stream",
     "text": [
      "1\n",
      "8 5\n",
      "11 7 1 13 21 3 7 3\n",
      "11 3 7 1 7\n",
      "Yes\n"
     ]
    }
   ],
   "source": [
    "def isSubset(a1, a2, n, m):\n",
    "    #code here\n",
    "    for i in a2:\n",
    "        if i in a1:\n",
    "            a1.remove(i)\n",
    "        else:\n",
    "            return 'No'\n",
    "    return 'Yes'\n",
    "    \n",
    "def main():\n",
    "    t = int(input())\n",
    "    for _ in range(t):\n",
    "        sz = [int(x) for x in input().strip().split()]\n",
    "        n, m = sz[0], sz[1]\n",
    "        \n",
    "        a1 = list(map(int, input().strip().split()))\n",
    "        a2 = list(map(int, input().strip().split()))\n",
    "        \n",
    "        print(isSubset(a1, a2, n, m))\n",
    "        \n",
    "        t -= 1\n",
    "if __name__ == \"__main__\":\n",
    "    main()"
   ]
  },
  {
   "cell_type": "code",
   "execution_count": null,
   "id": "1c46ab25",
   "metadata": {},
   "outputs": [],
   "source": []
  }
 ],
 "metadata": {
  "kernelspec": {
   "display_name": "Python 3",
   "language": "python",
   "name": "python3"
  },
  "language_info": {
   "codemirror_mode": {
    "name": "ipython",
    "version": 3
   },
   "file_extension": ".py",
   "mimetype": "text/x-python",
   "name": "python",
   "nbconvert_exporter": "python",
   "pygments_lexer": "ipython3",
   "version": "3.8.8"
  }
 },
 "nbformat": 4,
 "nbformat_minor": 5
}
