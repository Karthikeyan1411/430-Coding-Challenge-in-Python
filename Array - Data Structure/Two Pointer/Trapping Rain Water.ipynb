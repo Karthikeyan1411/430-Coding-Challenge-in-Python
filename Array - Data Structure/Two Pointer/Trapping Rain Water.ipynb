{
 "cells": [
  {
   "cell_type": "code",
   "execution_count": 4,
   "id": "6e1e2ea8",
   "metadata": {},
   "outputs": [
    {
     "name": "stdout",
     "output_type": "stream",
     "text": [
      "3\n",
      "6\n",
      "3 0 0 2 0 4\n",
      "10\n",
      "4\n",
      "7 4 0 9\n",
      "10\n",
      "3\n",
      "6 9 9\n",
      "0\n"
     ]
    }
   ],
   "source": [
    "class Solution:\n",
    "    def trappingWater(self, arr, n):\n",
    "        #code here\n",
    "        left, right = 0, n-1\n",
    "        maxLeft, maxRight = 0, 0\n",
    "        res = 0\n",
    "        while left <= right:\n",
    "            if arr[left] <= arr[right]:\n",
    "                if arr[left] >= maxLeft:\n",
    "                    maxLeft = arr[left]\n",
    "                else:\n",
    "                    res += maxLeft - arr[left]\n",
    "                left += 1\n",
    "            else:\n",
    "                if arr[right] >= maxRight:\n",
    "                    maxRight = arr[right]\n",
    "                else:\n",
    "                    res += maxRight - arr[right]\n",
    "                right -= 1\n",
    "        return res\n",
    "        \n",
    "if __name__ == \"__main__\":\n",
    "    t = int(input())\n",
    "    while t>0:\n",
    "        n = int(input())\n",
    "        arr = list(map(int, input().strip().split()))\n",
    "        ob = Solution()\n",
    "        ans = ob.trappingWater(arr,n)\n",
    "        print(ans)\n",
    "        t -= 1"
   ]
  },
  {
   "cell_type": "code",
   "execution_count": null,
   "id": "05dbd2f8",
   "metadata": {},
   "outputs": [],
   "source": []
  }
 ],
 "metadata": {
  "kernelspec": {
   "display_name": "Python 3",
   "language": "python",
   "name": "python3"
  },
  "language_info": {
   "codemirror_mode": {
    "name": "ipython",
    "version": 3
   },
   "file_extension": ".py",
   "mimetype": "text/x-python",
   "name": "python",
   "nbconvert_exporter": "python",
   "pygments_lexer": "ipython3",
   "version": "3.8.8"
  },
  "vp": {
   "vp_config_version": "1.0.0",
   "vp_menu_width": 273,
   "vp_note_display": false,
   "vp_note_width": 0,
   "vp_position": {
    "width": 278
   },
   "vp_section_display": false,
   "vp_signature": "VisualPython"
  }
 },
 "nbformat": 4,
 "nbformat_minor": 5
}
