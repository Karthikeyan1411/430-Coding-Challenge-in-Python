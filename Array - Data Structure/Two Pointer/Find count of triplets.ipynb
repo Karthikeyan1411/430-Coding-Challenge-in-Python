{
 "cells": [
  {
   "cell_type": "code",
   "execution_count": 7,
   "id": "a8daeb07",
   "metadata": {},
   "outputs": [
    {
     "name": "stdout",
     "output_type": "stream",
     "text": [
      "2\n",
      "4\n",
      "1 5 3 2\n",
      "2\n",
      "3\n",
      "2 3 4\n",
      "0\n"
     ]
    }
   ],
   "source": [
    "class Solution:\n",
    "    def countTriplet(self, arr, n):\n",
    "        #code here\n",
    "        arr.sort()\n",
    "        count = 0\n",
    "        for i in range(n):\n",
    "            j = 0\n",
    "            k = i-1\n",
    "            while j<k:\n",
    "                if arr[i] == arr[j] + arr[k]:\n",
    "                    count += 1\n",
    "                    j += 1\n",
    "                    k -= 1\n",
    "                elif arr[i] < arr[j] + arr[k]:\n",
    "                    k -= 1\n",
    "                else:\n",
    "                    j += 1\n",
    "        return count\n",
    "\n",
    "if __name__ == \"__main__\":\n",
    "    t = int(input())\n",
    "    while t>0:\n",
    "        n = int(input())\n",
    "        arr = list(map(int, input().strip().split()))\n",
    "        \n",
    "        ob = Solution()\n",
    "        ans = ob.countTriplet(arr, n)\n",
    "        print(ans)\n",
    "        \n",
    "        t -= 1\n"
   ]
  },
  {
   "cell_type": "code",
   "execution_count": null,
   "id": "69cb7372",
   "metadata": {},
   "outputs": [],
   "source": []
  }
 ],
 "metadata": {
  "kernelspec": {
   "display_name": "Python 3",
   "language": "python",
   "name": "python3"
  },
  "language_info": {
   "codemirror_mode": {
    "name": "ipython",
    "version": 3
   },
   "file_extension": ".py",
   "mimetype": "text/x-python",
   "name": "python",
   "nbconvert_exporter": "python",
   "pygments_lexer": "ipython3",
   "version": "3.8.8"
  }
 },
 "nbformat": 4,
 "nbformat_minor": 5
}
