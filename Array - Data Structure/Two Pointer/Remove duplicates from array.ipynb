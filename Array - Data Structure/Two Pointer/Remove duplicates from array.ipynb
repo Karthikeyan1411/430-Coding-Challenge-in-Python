{
 "cells": [
  {
   "cell_type": "code",
   "execution_count": 1,
   "id": "621e8d1c",
   "metadata": {},
   "outputs": [],
   "source": [
    "# Don't use set ro HashMap to solve the problem"
   ]
  },
  {
   "cell_type": "code",
   "execution_count": 3,
   "id": "d2ab8c1b",
   "metadata": {},
   "outputs": [
    {
     "name": "stdout",
     "output_type": "stream",
     "text": [
      "2\n",
      "5\n",
      "2 2 2 2 2\n",
      "2 \n",
      "4\n",
      "1 2 2 4\n",
      "1 2 4 \n"
     ]
    }
   ],
   "source": [
    "class Solution():\n",
    "    def remove_duplicate(self, A, N):\n",
    "        #code here\n",
    "        i = 0\n",
    "        for j in range(1, len(A)):\n",
    "            if A[i]!=A[j]:\n",
    "                i += 1\n",
    "                A[i] = A[j]\n",
    "        return i+1\n",
    "        \n",
    "if __name__ == \"__main__\":\n",
    "    t = int(input())\n",
    "    for _ in range(t):\n",
    "        N = int(input())\n",
    "        A = list(map(int, input().strip().split()))\n",
    "        ob = Solution()\n",
    "        n = ob.remove_duplicate(A,N)\n",
    "        for i in range(n):\n",
    "            print(A[i], end=\" \")\n",
    "        print()\n",
    "    \n",
    "        t -= 1"
   ]
  },
  {
   "cell_type": "code",
   "execution_count": null,
   "id": "9842ae47",
   "metadata": {},
   "outputs": [],
   "source": []
  }
 ],
 "metadata": {
  "kernelspec": {
   "display_name": "Python 3",
   "language": "python",
   "name": "python3"
  },
  "language_info": {
   "codemirror_mode": {
    "name": "ipython",
    "version": 3
   },
   "file_extension": ".py",
   "mimetype": "text/x-python",
   "name": "python",
   "nbconvert_exporter": "python",
   "pygments_lexer": "ipython3",
   "version": "3.8.8"
  }
 },
 "nbformat": 4,
 "nbformat_minor": 5
}
