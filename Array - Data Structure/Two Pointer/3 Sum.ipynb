{
 "cells": [
  {
   "cell_type": "code",
   "execution_count": 2,
   "id": "f634e45c",
   "metadata": {},
   "outputs": [
    {
     "name": "stdout",
     "output_type": "stream",
     "text": [
      "2\n",
      "6 13\n",
      "1 4 45 6 10 8\n",
      "1\n",
      "5 10\n",
      "1 2 4 3 6\n",
      "1\n"
     ]
    }
   ],
   "source": [
    "class Solution:\n",
    "    def find3Numbers(self, A, n, X):\n",
    "        #code here\n",
    "        a = sorted(A)\n",
    "        i = 0\n",
    "        for i in range(0,n):\n",
    "            j = n-1   # last element\n",
    "            l = i+1   # 2nd element\n",
    "            while l<j:\n",
    "                if a[i] + a[l] + a[j] == X:\n",
    "                    return 1\n",
    "                elif a[i] + a[l] + a[j] < X:\n",
    "                    l += 1\n",
    "                else:\n",
    "                    j -= 1\n",
    "        return 0\n",
    "\n",
    "if __name__ == \"__main__\":\n",
    "    t = int(input())\n",
    "    while t>0:\n",
    "        n, X = list(map(int, input().strip().split()))\n",
    "        A = list(map(int, input().strip().split()))\n",
    "        \n",
    "        ob = Solution()\n",
    "        if(ob.find3Numbers(A,n,X)):\n",
    "            print(1)\n",
    "        else:\n",
    "            print(0)\n",
    "            \n",
    "        t -= 1"
   ]
  },
  {
   "cell_type": "code",
   "execution_count": null,
   "id": "8b3bc833",
   "metadata": {},
   "outputs": [],
   "source": []
  }
 ],
 "metadata": {
  "kernelspec": {
   "display_name": "Python 3",
   "language": "python",
   "name": "python3"
  },
  "language_info": {
   "codemirror_mode": {
    "name": "ipython",
    "version": 3
   },
   "file_extension": ".py",
   "mimetype": "text/x-python",
   "name": "python",
   "nbconvert_exporter": "python",
   "pygments_lexer": "ipython3",
   "version": "3.8.8"
  }
 },
 "nbformat": 4,
 "nbformat_minor": 5
}
