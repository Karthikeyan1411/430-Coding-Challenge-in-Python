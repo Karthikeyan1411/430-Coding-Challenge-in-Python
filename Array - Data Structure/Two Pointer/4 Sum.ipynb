{
 "cells": [
  {
   "cell_type": "code",
   "execution_count": 19,
   "id": "e4220e90",
   "metadata": {},
   "outputs": [
    {
     "name": "stdout",
     "output_type": "stream",
     "text": [
      "1\n",
      "5 8\n",
      "2 2 2 2 2\n",
      "[[2, 2, 2, 2]]\n"
     ]
    }
   ],
   "source": [
    "class Solution:\n",
    "    def fourSum(self, nums, n, target):\n",
    "        #code here\n",
    "        #n = len(nums)\n",
    "        a = sorted(nums)\n",
    "        ans = []\n",
    "        \n",
    "        for i in range(n):\n",
    "            if i>0 and a[i]==a[i-1]:\n",
    "                continue\n",
    "            for j in range(i+1,n):\n",
    "                if j>i+1 and a[j]==a[j-1]:\n",
    "                    continue\n",
    "                \n",
    "                k = j+1\n",
    "                l = n-1\n",
    "                \n",
    "                while k<l:\n",
    "                    sums = a[i] + a[j] + a[k] + a[l]\n",
    "                    if sums == target:\n",
    "                        temp = [a[i], a[j], a[k], a[l]]\n",
    "                        ans.append(temp)\n",
    "                        \n",
    "                        k += 1\n",
    "                        l -= 1\n",
    "                        #return 1\n",
    "                        \n",
    "                        while k<l and a[k]==a[k-1]:\n",
    "                            k += 1\n",
    "                        while k<l and a[l]==a[l+1]:\n",
    "                            l -= 1\n",
    "                    if sums < target:\n",
    "                        k += 1\n",
    "                    else:\n",
    "                        l -= 1\n",
    "        #return 0\n",
    "        return ans\n",
    "        \n",
    "if __name__ == \"__main__\":\n",
    "    t = int(input())\n",
    "    while t>0:\n",
    "        n, target = list(map(int, input().strip().split()))\n",
    "        nums = list(map(int, input().strip().split()))\n",
    "        \n",
    "        ob = Solution()\n",
    "        print(ob.fourSum(nums, n, target))\n",
    "#         if(ob.fourSum(nums, n, target)):\n",
    "#              print(1)\n",
    "#         else:\n",
    "#              print(0)\n",
    "        \n",
    "        t -= 1"
   ]
  },
  {
   "cell_type": "code",
   "execution_count": null,
   "id": "5ed5ffaf",
   "metadata": {},
   "outputs": [],
   "source": []
  }
 ],
 "metadata": {
  "kernelspec": {
   "display_name": "Python 3",
   "language": "python",
   "name": "python3"
  },
  "language_info": {
   "codemirror_mode": {
    "name": "ipython",
    "version": 3
   },
   "file_extension": ".py",
   "mimetype": "text/x-python",
   "name": "python",
   "nbconvert_exporter": "python",
   "pygments_lexer": "ipython3",
   "version": "3.8.8"
  }
 },
 "nbformat": 4,
 "nbformat_minor": 5
}
