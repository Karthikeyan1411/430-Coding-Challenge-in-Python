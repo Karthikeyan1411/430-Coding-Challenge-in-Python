{
 "cells": [
  {
   "cell_type": "code",
   "execution_count": 2,
   "id": "fc7d9b71",
   "metadata": {},
   "outputs": [
    {
     "name": "stdout",
     "output_type": "stream",
     "text": [
      "2\n",
      "3 2 3\n",
      "3\n",
      "2 2 1 1 1 2 2\n",
      "2\n"
     ]
    }
   ],
   "source": [
    "class Solution:\n",
    "    def majorityElement(self, nums):\n",
    "        #code here\n",
    "        count = {}\n",
    "        for i in nums:\n",
    "            if i in count:\n",
    "                count[i] += 1\n",
    "            else:\n",
    "                count[i] = 1\n",
    "            if count[i] > len(nums)//2:\n",
    "                return i\n",
    "\n",
    "if __name__ == \"__main__\":\n",
    "    t = int(input())\n",
    "    while t>0:\n",
    "        arr = list(map(int, input().strip().split()))\n",
    "        ob = Solution()\n",
    "        ans = ob.majorityElement(arr)\n",
    "        print(ans)\n",
    "        t -= 1"
   ]
  },
  {
   "cell_type": "code",
   "execution_count": null,
   "id": "905ddab7",
   "metadata": {},
   "outputs": [],
   "source": []
  }
 ],
 "metadata": {
  "kernelspec": {
   "display_name": "Python 3",
   "language": "python",
   "name": "python3"
  },
  "language_info": {
   "codemirror_mode": {
    "name": "ipython",
    "version": 3
   },
   "file_extension": ".py",
   "mimetype": "text/x-python",
   "name": "python",
   "nbconvert_exporter": "python",
   "pygments_lexer": "ipython3",
   "version": "3.8.8"
  },
  "vp": {
   "vp_config_version": "1.0.0",
   "vp_menu_width": 273,
   "vp_note_display": false,
   "vp_note_width": 0,
   "vp_position": {
    "width": 278
   },
   "vp_section_display": false,
   "vp_signature": "VisualPython"
  }
 },
 "nbformat": 4,
 "nbformat_minor": 5
}
