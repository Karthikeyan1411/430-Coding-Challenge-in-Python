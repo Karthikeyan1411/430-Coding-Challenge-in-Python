{
 "cells": [
  {
   "cell_type": "code",
   "execution_count": 4,
   "id": "751bb4a4",
   "metadata": {},
   "outputs": [],
   "source": [
    "# Brute Force   -> But it is not efficient for Larger Arrays"
   ]
  },
  {
   "cell_type": "code",
   "execution_count": 1,
   "id": "2a5b806f",
   "metadata": {},
   "outputs": [
    {
     "name": "stdout",
     "output_type": "stream",
     "text": [
      "2\n",
      "5\n",
      "6 -3 -10 0 2\n",
      "180\n",
      "6\n",
      "2 3 4 5 -1 0\n",
      "120\n"
     ]
    }
   ],
   "source": [
    "class Solution:\n",
    "    def maxProduct(self, arr, n):\n",
    "        #code here\n",
    "        res = arr[0]\n",
    "        for i in range(n):\n",
    "            m = arr[i]\n",
    "            for j in range(i+1, n):\n",
    "                res = max(res, m)\n",
    "                m *= arr[j]\n",
    "            res = max(res, m)\n",
    "        return res\n",
    "        \n",
    "if __name__ == \"__main__\":\n",
    "    t = int(input())\n",
    "    while t>0:\n",
    "        n = int(input())\n",
    "        arr = list(map(int, input().strip().split()))\n",
    "        ob = Solution()\n",
    "        ans = ob.maxProduct(arr, n)\n",
    "        print(ans)\n",
    "        t -= 1"
   ]
  },
  {
   "cell_type": "code",
   "execution_count": null,
   "id": "65a3df91",
   "metadata": {},
   "outputs": [],
   "source": [
    "# Kadane's Algorithm -> It is efficient for larger Arrays"
   ]
  },
  {
   "cell_type": "code",
   "execution_count": 3,
   "id": "547a92a6",
   "metadata": {},
   "outputs": [
    {
     "name": "stdout",
     "output_type": "stream",
     "text": [
      "2\n",
      "5\n",
      "6 -3 -10 0 2\n",
      "180\n",
      "6\n",
      "2 3 4 5 -1 0\n",
      "120\n"
     ]
    }
   ],
   "source": [
    "class Solution:\n",
    "    def maxProduct(self, arr, n):\n",
    "        #code here\n",
    "        max_so_far = arr[0]\n",
    "        max_end = arr[0]\n",
    "        min_end = arr[0]\n",
    "        \n",
    "        for i in range(1, n):\n",
    "            temp = max(arr[i], arr[i]*max_end, arr[i]*min_end)\n",
    "            min_end = min(arr[i], arr[i]*max_end, arr[i]*min_end)\n",
    "            max_end = temp\n",
    "            \n",
    "            max_so_far = max(max_so_far, max_end)\n",
    "        return max_so_far\n",
    "        \n",
    "if __name__ == \"__main__\":\n",
    "    t = int(input())\n",
    "    while t>0:\n",
    "        n = int(input())\n",
    "        arr = list(map(int, input().strip().split()))\n",
    "        ob = Solution()\n",
    "        ans = ob.maxProduct(arr, n)\n",
    "        print(ans)\n",
    "        t -= 1"
   ]
  },
  {
   "cell_type": "code",
   "execution_count": null,
   "id": "8425d88c",
   "metadata": {},
   "outputs": [],
   "source": []
  }
 ],
 "metadata": {
  "kernelspec": {
   "display_name": "Python 3",
   "language": "python",
   "name": "python3"
  },
  "language_info": {
   "codemirror_mode": {
    "name": "ipython",
    "version": 3
   },
   "file_extension": ".py",
   "mimetype": "text/x-python",
   "name": "python",
   "nbconvert_exporter": "python",
   "pygments_lexer": "ipython3",
   "version": "3.8.8"
  },
  "vp": {
   "vp_config_version": "1.0.0",
   "vp_menu_width": 273,
   "vp_note_display": false,
   "vp_note_width": 0,
   "vp_position": {
    "width": 278
   },
   "vp_section_display": false,
   "vp_signature": "VisualPython"
  }
 },
 "nbformat": 4,
 "nbformat_minor": 5
}
