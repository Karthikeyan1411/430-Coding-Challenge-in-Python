{
 "cells": [
  {
   "cell_type": "code",
   "execution_count": 3,
   "id": "7ef1698f",
   "metadata": {},
   "outputs": [
    {
     "name": "stdout",
     "output_type": "stream",
     "text": [
      "3\n",
      "5 \n",
      "2 4 1 3 5\n",
      "3\n",
      "5\n",
      "2 3 4 5 6\n",
      "0\n",
      "3\n",
      "10 10 10\n",
      "0\n"
     ]
    }
   ],
   "source": [
    "import math\n",
    "class Solution:\n",
    "    def inversionCount(self, arr, n):\n",
    "        #code here\n",
    "        return mergeSort(arr, 0, n-1)  # count the number of pairs\n",
    "\n",
    "def mergeSort(arr, l, h):\n",
    "    cnt = 0\n",
    "    if l >= h:\n",
    "        return cnt\n",
    "    m = math.floor((l+h)/2)\n",
    "    cnt += mergeSort(arr, l, m)    # left half\n",
    "    cnt += mergeSort(arr, m+1, h)  # right half\n",
    "    cnt += merge(arr, l, m, h)     # merging sorted halves\n",
    "    return cnt\n",
    "\n",
    "def merge(arr, l, m, h):\n",
    "    t = []      # temporary array\n",
    "    left = l    # starting index of left half of arr\n",
    "    right = m+1  # starting index of right half of arr\n",
    "    cnt = 0   # Modification 1: cnt variable to count the pairs\n",
    "    \n",
    "    # storing elements in the temporary array in a sorted manner\n",
    "    while (left<=m and right<=h):\n",
    "        if arr[left] <= arr[right]:\n",
    "            t.append(arr[left])\n",
    "            left += 1\n",
    "        else:\n",
    "            t.append(arr[right])\n",
    "            cnt += (m - left + 1)  # Modification 2\n",
    "            right += 1\n",
    "    \n",
    "    # if elements on the left half are still left\n",
    "    while left<=m:\n",
    "        t.append(arr[left])\n",
    "        left += 1\n",
    "    \n",
    "    # if elements on the right half are still left\n",
    "    while right<=h:\n",
    "        t.append(arr[right])\n",
    "        right += 1\n",
    "        \n",
    "    # transfering all elements from temporary to arr\n",
    "    for i in range(l, h+1):\n",
    "        arr[i] = t[i-l]\n",
    "    return cnt   # Modification 3\n",
    "    \n",
    "    \n",
    "    \n",
    "    \n",
    "if __name__ == \"__main__\":\n",
    "    t = int(input())\n",
    "    while t>0:\n",
    "        n = int(input())\n",
    "        a = list(map(int, input().strip().split()))\n",
    "        ob = Solution()\n",
    "        ans = ob.inversionCount(a, n)\n",
    "        print(ans)\n",
    "        t -= 1"
   ]
  },
  {
   "cell_type": "code",
   "execution_count": null,
   "id": "1eddb08d",
   "metadata": {},
   "outputs": [],
   "source": []
  }
 ],
 "metadata": {
  "kernelspec": {
   "display_name": "Python 3",
   "language": "python",
   "name": "python3"
  },
  "language_info": {
   "codemirror_mode": {
    "name": "ipython",
    "version": 3
   },
   "file_extension": ".py",
   "mimetype": "text/x-python",
   "name": "python",
   "nbconvert_exporter": "python",
   "pygments_lexer": "ipython3",
   "version": "3.8.8"
  },
  "vp": {
   "vp_config_version": "1.0.0",
   "vp_menu_width": 273,
   "vp_note_display": false,
   "vp_note_width": 0,
   "vp_position": {
    "width": 278
   },
   "vp_section_display": false,
   "vp_signature": "VisualPython"
  }
 },
 "nbformat": 4,
 "nbformat_minor": 5
}
