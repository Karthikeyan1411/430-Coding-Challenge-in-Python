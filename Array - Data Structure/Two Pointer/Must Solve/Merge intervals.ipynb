{
 "cells": [
  {
   "cell_type": "code",
   "execution_count": 1,
   "id": "93c5b916",
   "metadata": {},
   "outputs": [
    {
     "name": "stdout",
     "output_type": "stream",
     "text": [
      "2\n",
      "4\n",
      "1 3\n",
      "2 6\n",
      "8 10\n",
      "15 18\n",
      "[[1, 6], [8, 10], [15, 18]]\n",
      "2\n",
      "1 4\n",
      "4 5\n",
      "[[1, 5]]\n"
     ]
    }
   ],
   "source": [
    "class Solution:\n",
    "    def merge(self, intervals: [[int]]):\n",
    "        #code here\n",
    "        intervals = sorted(intervals, key = lambda x: x[0])\n",
    "        ans = []\n",
    "        for i in intervals:\n",
    "            if not ans or ans[-1][1] < i[0]:\n",
    "                ans.append(i)\n",
    "            else:\n",
    "                ans[-1][1] = max(ans[-1][1], i[1])\n",
    "        return ans\n",
    "        \n",
    "if __name__ == \"__main__\":\n",
    "    t = int(input())\n",
    "    while t>0:\n",
    "        n = int(input())\n",
    "        a = []\n",
    "        for _ in range(n):\n",
    "            arr = list(map(int, input().strip().split()))\n",
    "            a.append(arr)\n",
    "        ob = Solution()\n",
    "        ans = ob.merge(a)\n",
    "        print(ans)\n",
    "        t -= 1"
   ]
  },
  {
   "cell_type": "code",
   "execution_count": null,
   "id": "5d3bbbe9",
   "metadata": {},
   "outputs": [],
   "source": []
  }
 ],
 "metadata": {
  "kernelspec": {
   "display_name": "Python 3",
   "language": "python",
   "name": "python3"
  },
  "language_info": {
   "codemirror_mode": {
    "name": "ipython",
    "version": 3
   },
   "file_extension": ".py",
   "mimetype": "text/x-python",
   "name": "python",
   "nbconvert_exporter": "python",
   "pygments_lexer": "ipython3",
   "version": "3.8.8"
  },
  "vp": {
   "vp_config_version": "1.0.0",
   "vp_menu_width": 273,
   "vp_note_display": false,
   "vp_note_width": 0,
   "vp_position": {
    "width": 278
   },
   "vp_section_display": false,
   "vp_signature": "VisualPython"
  }
 },
 "nbformat": 4,
 "nbformat_minor": 5
}
