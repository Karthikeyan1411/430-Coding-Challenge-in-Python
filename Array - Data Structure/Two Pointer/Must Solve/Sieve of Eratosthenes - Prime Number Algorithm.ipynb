{
 "cells": [
  {
   "cell_type": "code",
   "execution_count": 3,
   "id": "bc164196",
   "metadata": {},
   "outputs": [],
   "source": [
    "#Method -1"
   ]
  },
  {
   "cell_type": "code",
   "execution_count": 4,
   "id": "187f91f0",
   "metadata": {},
   "outputs": [
    {
     "name": "stdout",
     "output_type": "stream",
     "text": [
      "2\n",
      "10\n",
      "2\n",
      "3\n",
      "5\n",
      "7\n",
      "\n",
      "35\n",
      "2\n",
      "3\n",
      "5\n",
      "7\n",
      "11\n",
      "13\n",
      "17\n",
      "19\n",
      "23\n",
      "29\n",
      "31\n",
      "\n"
     ]
    }
   ],
   "source": [
    "class Solution:\n",
    "    def sieveOfEratosthenes(self, N):\n",
    "        #code here\n",
    "        prime = []\n",
    "        is_prime = [True] * (N+1)\n",
    "        for i in range(2, N+1):\n",
    "            if is_prime[i]:\n",
    "                prime.append(i)\n",
    "                \n",
    "                for j in range(i*i, N+1, i):\n",
    "                    is_prime[j] = False\n",
    "        return prime\n",
    "        \n",
    "if __name__ == \"__main__\":\n",
    "    t = int(input())\n",
    "    while t>0:\n",
    "        n = int(input())\n",
    "        ob = Solution()\n",
    "        ans = ob.sieveOfEratosthenes(n)\n",
    "        for i in ans:\n",
    "            print(i)\n",
    "        print()\n",
    "        t-=1"
   ]
  },
  {
   "cell_type": "code",
   "execution_count": null,
   "id": "e3b0fac7",
   "metadata": {},
   "outputs": [],
   "source": [
    "#Method -2"
   ]
  },
  {
   "cell_type": "code",
   "execution_count": 5,
   "id": "8ee19822",
   "metadata": {},
   "outputs": [
    {
     "name": "stdout",
     "output_type": "stream",
     "text": [
      "2\n",
      "10\n",
      "2\n",
      "3\n",
      "5\n",
      "7\n",
      "\n",
      "35\n",
      "2\n",
      "3\n",
      "5\n",
      "7\n",
      "11\n",
      "13\n",
      "17\n",
      "19\n",
      "23\n",
      "29\n",
      "31\n",
      "\n"
     ]
    }
   ],
   "source": [
    "class Solution:\n",
    "    def sieveOfEratosthenes(self, N):\n",
    "        #code here\n",
    "        prime = []\n",
    "        for i in range(2, N+1):\n",
    "            s = 1\n",
    "            for j in range(2, int(i**0.5)+1):\n",
    "                if not i%j:\n",
    "                    s = 0\n",
    "                    break\n",
    "            if s:\n",
    "                prime.append(i)\n",
    "        return prime\n",
    "        \n",
    "if __name__ == \"__main__\":\n",
    "    t = int(input())\n",
    "    while t>0:\n",
    "        n = int(input())\n",
    "        ob = Solution()\n",
    "        ans = ob.sieveOfEratosthenes(n)\n",
    "        for i in ans:\n",
    "            print(i)\n",
    "        print()\n",
    "        t-=1"
   ]
  }
 ],
 "metadata": {
  "kernelspec": {
   "display_name": "Python 3",
   "language": "python",
   "name": "python3"
  },
  "language_info": {
   "codemirror_mode": {
    "name": "ipython",
    "version": 3
   },
   "file_extension": ".py",
   "mimetype": "text/x-python",
   "name": "python",
   "nbconvert_exporter": "python",
   "pygments_lexer": "ipython3",
   "version": "3.8.8"
  },
  "vp": {
   "vp_config_version": "1.0.0",
   "vp_menu_width": 273,
   "vp_note_display": false,
   "vp_note_width": 0,
   "vp_position": {
    "width": 278
   },
   "vp_section_display": false,
   "vp_signature": "VisualPython"
  }
 },
 "nbformat": 4,
 "nbformat_minor": 5
}
