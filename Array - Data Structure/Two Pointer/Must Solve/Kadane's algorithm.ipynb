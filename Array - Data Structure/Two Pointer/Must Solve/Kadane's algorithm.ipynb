{
 "cells": [
  {
   "cell_type": "code",
   "execution_count": 3,
   "id": "afa12016",
   "metadata": {},
   "outputs": [
    {
     "name": "stdout",
     "output_type": "stream",
     "text": [
      "2\n",
      "5\n",
      "1 2 3 -2 5\n",
      "9\n",
      "4\n",
      "-1 -2 -3 -4\n",
      "-1\n"
     ]
    }
   ],
   "source": [
    "class Solution:\n",
    "    def maxSubArraySum(self, arr, N):\n",
    "        #code here\n",
    "        maxsum = arr[0]\n",
    "        cursum = arr[0]\n",
    "        \n",
    "        for i in arr[1:]:\n",
    "            if cursum < 0:\n",
    "                curum = i\n",
    "            else:\n",
    "                cursum = cursum + i\n",
    "            maxsum = max(maxsum, cursum)\n",
    "        \n",
    "        return maxsum\n",
    "        \n",
    "import math\n",
    "\n",
    "def main():\n",
    "    t = int(input())\n",
    "    while t>0:\n",
    "        n = int(input())\n",
    "        arr = list(map(int, input().strip().split()))\n",
    "        ob = Solution()\n",
    "        ans = ob.maxSubArraySum(arr, n)\n",
    "        print(ans)\n",
    "        t -= 1\n",
    "\n",
    "if __name__ == \"__main__\":\n",
    "    main()"
   ]
  },
  {
   "cell_type": "code",
   "execution_count": null,
   "id": "00caa234",
   "metadata": {},
   "outputs": [],
   "source": []
  }
 ],
 "metadata": {
  "kernelspec": {
   "display_name": "Python 3",
   "language": "python",
   "name": "python3"
  },
  "language_info": {
   "codemirror_mode": {
    "name": "ipython",
    "version": 3
   },
   "file_extension": ".py",
   "mimetype": "text/x-python",
   "name": "python",
   "nbconvert_exporter": "python",
   "pygments_lexer": "ipython3",
   "version": "3.8.8"
  },
  "vp": {
   "vp_config_version": "1.0.0",
   "vp_menu_width": 273,
   "vp_note_display": false,
   "vp_note_width": 0,
   "vp_position": {
    "width": 278
   },
   "vp_section_display": false,
   "vp_signature": "VisualPython"
  }
 },
 "nbformat": 4,
 "nbformat_minor": 5
}
