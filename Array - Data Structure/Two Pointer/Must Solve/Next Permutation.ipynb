{
 "cells": [
  {
   "cell_type": "code",
   "execution_count": 8,
   "id": "3193f489",
   "metadata": {},
   "outputs": [
    {
     "name": "stdout",
     "output_type": "stream",
     "text": [
      "3\n",
      "1 2 3\n",
      "[1, 3, 2]\n",
      "3 2 1\n",
      "[1, 2, 3]\n",
      "1 1 5\n",
      "[1, 5, 1]\n"
     ]
    }
   ],
   "source": [
    "class Solution:\n",
    "    def nextPermutation(self, nums: [int]):\n",
    "        #code here\n",
    "        n = len(nums)\n",
    "        b = -1\n",
    "        for i in range(n-2, b, -1):\n",
    "            if nums[i] < nums[i+1]:\n",
    "                b = i\n",
    "                break\n",
    "        if b == -1:\n",
    "            nums.reverse()\n",
    "            return nums\n",
    "        for i in range(n-1, b, -1):\n",
    "            if nums[i] > nums[b]:\n",
    "                nums[i], nums[b] = nums[b], nums[i]\n",
    "                break\n",
    "        nums[b+1:] = reversed(nums[b+1:])\n",
    "        return nums\n",
    "\n",
    "if __name__ == \"__main__\":\n",
    "    t = int(input())\n",
    "    while t>0:\n",
    "        ar = list(map(int, input().strip().split()))\n",
    "        ob = Solution()\n",
    "        ans = ob.nextPermutation(ar)\n",
    "        print(ans)\n",
    "        t -= 1"
   ]
  },
  {
   "cell_type": "code",
   "execution_count": null,
   "id": "f1dea013",
   "metadata": {},
   "outputs": [],
   "source": []
  }
 ],
 "metadata": {
  "kernelspec": {
   "display_name": "Python 3",
   "language": "python",
   "name": "python3"
  },
  "language_info": {
   "codemirror_mode": {
    "name": "ipython",
    "version": 3
   },
   "file_extension": ".py",
   "mimetype": "text/x-python",
   "name": "python",
   "nbconvert_exporter": "python",
   "pygments_lexer": "ipython3",
   "version": "3.8.8"
  },
  "vp": {
   "vp_config_version": "1.0.0",
   "vp_menu_width": 273,
   "vp_note_display": false,
   "vp_note_width": 0,
   "vp_position": {
    "width": 278
   },
   "vp_section_display": false,
   "vp_signature": "VisualPython"
  }
 },
 "nbformat": 4,
 "nbformat_minor": 5
}
