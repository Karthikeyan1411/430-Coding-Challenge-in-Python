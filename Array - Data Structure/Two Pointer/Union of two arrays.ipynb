{
 "cells": [
  {
   "cell_type": "code",
   "execution_count": 3,
   "id": "87bafb80",
   "metadata": {},
   "outputs": [
    {
     "name": "stdout",
     "output_type": "stream",
     "text": [
      "2\n",
      "5 3\n",
      "1 2 3 4 5\n",
      "1 2 3\n",
      "5\n",
      "6 2\n",
      "85 25 1 32 54 6\n",
      "85 2\n",
      "7\n"
     ]
    }
   ],
   "source": [
    "class Solution:\n",
    "    def doUnion(self, a, n, b ,m):\n",
    "        #code here\n",
    "        a1 = set(a)   # convert list to set -> then only do union or intersection\n",
    "        b1 = set(b)\n",
    "        c = a1.union(b1)\n",
    "        return len(c)\n",
    "    \n",
    "if __name__ == \"__main__\":\n",
    "    t = int(input())\n",
    "    for _ in range(t):\n",
    "        n, m = list(map(int, input().strip().split()))\n",
    "        a = list(map(int, input().strip().split()))\n",
    "        b = list(map(int, input().strip().split()))\n",
    "        \n",
    "        ob = Solution()\n",
    "        print(ob.doUnion(a,n,b,m))\n",
    "        \n",
    "        t -= 1"
   ]
  },
  {
   "cell_type": "code",
   "execution_count": null,
   "id": "9e014f6f",
   "metadata": {},
   "outputs": [],
   "source": []
  }
 ],
 "metadata": {
  "kernelspec": {
   "display_name": "Python 3",
   "language": "python",
   "name": "python3"
  },
  "language_info": {
   "codemirror_mode": {
    "name": "ipython",
    "version": 3
   },
   "file_extension": ".py",
   "mimetype": "text/x-python",
   "name": "python",
   "nbconvert_exporter": "python",
   "pygments_lexer": "ipython3",
   "version": "3.8.8"
  }
 },
 "nbformat": 4,
 "nbformat_minor": 5
}
