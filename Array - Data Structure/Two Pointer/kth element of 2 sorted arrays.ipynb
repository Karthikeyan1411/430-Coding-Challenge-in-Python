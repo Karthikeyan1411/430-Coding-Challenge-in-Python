{
 "cells": [
  {
   "cell_type": "code",
   "execution_count": 1,
   "id": "9cbd28f8",
   "metadata": {},
   "outputs": [
    {
     "name": "stdout",
     "output_type": "stream",
     "text": [
      "1\n",
      "5 4 5\n",
      "2 3 6 7 9\n",
      "1 4 8 10\n",
      "6\n"
     ]
    }
   ],
   "source": [
    "class Solution:\n",
    "    def kthElement(self, arr1, arr2, n, m, k):\n",
    "        #code here\n",
    "        return sorted(arr1 + arr2)[k-1]\n",
    "        \n",
    "if __name__ == \"__main__\":\n",
    "    t = int(input())\n",
    "    while t>0:\n",
    "        sz = list(map(int, input().strip().split()))\n",
    "        n, m, k = sz[0], sz[1], sz[2]\n",
    "        a = list(map(int, input().strip().split()))\n",
    "        b = list(map(int, input().strip().split()))\n",
    "        \n",
    "        ob = Solution()\n",
    "        print(ob.kthElement(a, b, n, m, k))\n",
    "        \n",
    "        t -= 1"
   ]
  },
  {
   "cell_type": "code",
   "execution_count": 2,
   "id": "8863dbd4",
   "metadata": {},
   "outputs": [],
   "source": [
    "# Merging Technique"
   ]
  },
  {
   "cell_type": "code",
   "execution_count": 3,
   "id": "0a546840",
   "metadata": {},
   "outputs": [
    {
     "name": "stdout",
     "output_type": "stream",
     "text": [
      "1\n",
      "5 4 5\n",
      "2 3 6 7 9\n",
      "1 4 8 10\n",
      "6\n"
     ]
    }
   ],
   "source": [
    "class Solution:\n",
    "    def kthElement(self, arr1, arr2, n, m, k):\n",
    "        #code here\n",
    "        sorted1 = [0] * (m+n)\n",
    "        i, j, d = 0, 0, 0\n",
    "        while i<n and j<m:\n",
    "            if arr1[i] < arr2[j]:\n",
    "                sorted1[d] = arr1[i]\n",
    "                i += 1\n",
    "            else:\n",
    "                sorted1[d] = arr2[j]\n",
    "                j += 1\n",
    "            d += 1\n",
    "        while i<n:\n",
    "            sorted1[d] = arr1[i]\n",
    "            d += 1\n",
    "            i += 1\n",
    "        while j<m:\n",
    "            sorted1[d] = arr2[j]\n",
    "            d += 1\n",
    "            j += 1\n",
    "        return sorted1[k-1]\n",
    "        \n",
    "if __name__ == \"__main__\":\n",
    "    t = int(input())\n",
    "    while t>0:\n",
    "        sz = list(map(int, input().strip().split()))\n",
    "        n, m, k = sz[0], sz[1], sz[2]\n",
    "        a = list(map(int, input().strip().split()))\n",
    "        b = list(map(int, input().strip().split()))\n",
    "        \n",
    "        ob = Solution()\n",
    "        print(ob.kthElement(a, b, n, m, k))\n",
    "        \n",
    "        t -= 1"
   ]
  },
  {
   "cell_type": "code",
   "execution_count": null,
   "id": "3fb53d58",
   "metadata": {},
   "outputs": [],
   "source": []
  }
 ],
 "metadata": {
  "kernelspec": {
   "display_name": "Python 3",
   "language": "python",
   "name": "python3"
  },
  "language_info": {
   "codemirror_mode": {
    "name": "ipython",
    "version": 3
   },
   "file_extension": ".py",
   "mimetype": "text/x-python",
   "name": "python",
   "nbconvert_exporter": "python",
   "pygments_lexer": "ipython3",
   "version": "3.8.8"
  }
 },
 "nbformat": 4,
 "nbformat_minor": 5
}
