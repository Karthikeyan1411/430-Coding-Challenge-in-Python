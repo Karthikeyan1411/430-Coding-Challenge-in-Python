{
 "cells": [
  {
   "cell_type": "code",
   "execution_count": null,
   "id": "4c0e987c",
   "metadata": {},
   "outputs": [],
   "source": [
    "#Two Pointer Approach"
   ]
  },
  {
   "cell_type": "code",
   "execution_count": 3,
   "id": "163065e2",
   "metadata": {},
   "outputs": [
    {
     "name": "stdout",
     "output_type": "stream",
     "text": [
      "2\n",
      "6 16\n",
      "1 4 45 6 10 8\n",
      "Yes\n",
      "5 10\n",
      "1 2 4 3 6\n",
      "Yes\n"
     ]
    }
   ],
   "source": [
    "class Solution:\n",
    "    def hasArrayTwoCandidates(self, arr, n, x):\n",
    "        #code here\n",
    "        a = sorted(arr)\n",
    "        i = 0\n",
    "        j = n-1\n",
    "        \n",
    "        while i<j:\n",
    "            if a[i] + a[j] == x:\n",
    "                return 1\n",
    "            elif a[i] + a[j] < x:\n",
    "                i += 1\n",
    "            else:                 # a[i] + a[j] > x\n",
    "                j -= 1\n",
    "        return 0\n",
    "        \n",
    "        \n",
    "if __name__ == \"__main__\":\n",
    "    t = int(input())\n",
    "    while t>0:\n",
    "        n, x = list(map(int, input().strip().split()))\n",
    "        arr = list(map(int, input().strip().split()))\n",
    "        \n",
    "        ob = Solution()\n",
    "        ans = ob.hasArrayTwoCandidates(arr, n, x)\n",
    "        \n",
    "        if ans:\n",
    "            print(\"Yes\")\n",
    "        else:\n",
    "            print(\"No\")\n",
    "            \n",
    "        t -= 1"
   ]
  },
  {
   "cell_type": "code",
   "execution_count": 4,
   "id": "db9f7171",
   "metadata": {},
   "outputs": [],
   "source": [
    "# Dictionary - Hash Map Approach"
   ]
  },
  {
   "cell_type": "code",
   "execution_count": 5,
   "id": "cace6eae",
   "metadata": {},
   "outputs": [
    {
     "name": "stdout",
     "output_type": "stream",
     "text": [
      "2\n",
      "6 16\n",
      "1 4 45 6 10 8\n",
      "Yes\n",
      "5 10\n",
      "1 2 4 3 6\n",
      "Yes\n"
     ]
    }
   ],
   "source": [
    "class Solution:\n",
    "    def hasArrayTwoCandidates(self, arr, n, x):\n",
    "        #code here\n",
    "        num = {}\n",
    "        for i in arr:\n",
    "            if i in num:\n",
    "                return 1\n",
    "            else:\n",
    "                num[x-i] = i\n",
    "        return 0\n",
    "        \n",
    "        \n",
    "if __name__ == \"__main__\":\n",
    "    t = int(input())\n",
    "    while t>0:\n",
    "        n, x = list(map(int, input().strip().split()))\n",
    "        arr = list(map(int, input().strip().split()))\n",
    "        \n",
    "        ob = Solution()\n",
    "        ans = ob.hasArrayTwoCandidates(arr, n, x)\n",
    "        \n",
    "        if ans:\n",
    "            print(\"Yes\")\n",
    "        else:\n",
    "            print(\"No\")\n",
    "            \n",
    "        t -= 1"
   ]
  },
  {
   "cell_type": "code",
   "execution_count": null,
   "id": "27b037ac",
   "metadata": {},
   "outputs": [],
   "source": []
  }
 ],
 "metadata": {
  "kernelspec": {
   "display_name": "Python 3",
   "language": "python",
   "name": "python3"
  },
  "language_info": {
   "codemirror_mode": {
    "name": "ipython",
    "version": 3
   },
   "file_extension": ".py",
   "mimetype": "text/x-python",
   "name": "python",
   "nbconvert_exporter": "python",
   "pygments_lexer": "ipython3",
   "version": "3.8.8"
  }
 },
 "nbformat": 4,
 "nbformat_minor": 5
}
