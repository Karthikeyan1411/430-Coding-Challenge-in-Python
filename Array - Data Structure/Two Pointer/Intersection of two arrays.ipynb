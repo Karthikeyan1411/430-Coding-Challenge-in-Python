{
 "cells": [
  {
   "cell_type": "code",
   "execution_count": 3,
   "id": "57f71bd5",
   "metadata": {},
   "outputs": [
    {
     "name": "stdout",
     "output_type": "stream",
     "text": [
      "2\n",
      "5 3\n",
      "89 24 75 11 23\n",
      "89 2 4\n",
      "1\n",
      "6 5\n",
      "1 2 3 4 5 6\n",
      "3 4 5 6 7\n",
      "4\n"
     ]
    }
   ],
   "source": [
    "class Solution:\n",
    "    def NumberofElementsInIntersection(self, a, b, n, m):\n",
    "        #code here\n",
    "        a1 = set(a)\n",
    "        b1 = set(b)\n",
    "        c = a1.intersection(b1)\n",
    "        return len(c)\n",
    "        \n",
    "if __name__ == \"__main__\":\n",
    "    t = int(input())\n",
    "    while t>0:\n",
    "        n,m = list(map(int, input().strip().split()))\n",
    "        a = list(map(int, input().strip().split()))\n",
    "        b = list(map(int, input().strip().split()))\n",
    "        \n",
    "        ob = Solution()\n",
    "        print(ob.NumberofElementsInIntersection(a,b,n,m))\n",
    "        \n",
    "        t -= 1"
   ]
  },
  {
   "cell_type": "code",
   "execution_count": null,
   "id": "347895e6",
   "metadata": {},
   "outputs": [],
   "source": []
  }
 ],
 "metadata": {
  "kernelspec": {
   "display_name": "Python 3",
   "language": "python",
   "name": "python3"
  },
  "language_info": {
   "codemirror_mode": {
    "name": "ipython",
    "version": 3
   },
   "file_extension": ".py",
   "mimetype": "text/x-python",
   "name": "python",
   "nbconvert_exporter": "python",
   "pygments_lexer": "ipython3",
   "version": "3.8.8"
  }
 },
 "nbformat": 4,
 "nbformat_minor": 5
}
