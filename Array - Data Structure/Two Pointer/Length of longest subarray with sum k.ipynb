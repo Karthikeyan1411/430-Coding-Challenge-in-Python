{
 "cells": [
  {
   "cell_type": "code",
   "execution_count": 2,
   "id": "b5512f32",
   "metadata": {},
   "outputs": [
    {
     "name": "stdout",
     "output_type": "stream",
     "text": [
      "1\n",
      "6 15\n",
      "10 5 2 7 1 9\n",
      "4\n"
     ]
    }
   ],
   "source": [
    "class Solution:\n",
    "    def lenofLongSubarr(self, arr, n, k):\n",
    "        #code here\n",
    "        mp = {}\n",
    "        s, maxLen = 0, 0\n",
    "        for i in range(n):\n",
    "            s += arr[i]\n",
    "            if s==k:\n",
    "                maxLen = max(maxLen, i+1)\n",
    "            rem = s-k\n",
    "            \n",
    "            if rem in mp:\n",
    "                length = i - mp[rem]\n",
    "                maxLen = max(maxLen, length)\n",
    "            if s not in mp:\n",
    "                mp[s] = i\n",
    "        return maxLen\n",
    "        \n",
    "for _ in range(0, int(input())):\n",
    "    n, k = map(int, input().split())\n",
    "    arr = list(map(int, input().strip().split()))\n",
    "    \n",
    "    ob = Solution()\n",
    "    print(ob.lenofLongSubarr(arr, n, k))"
   ]
  },
  {
   "cell_type": "code",
   "execution_count": null,
   "id": "c215a8df",
   "metadata": {},
   "outputs": [],
   "source": []
  }
 ],
 "metadata": {
  "kernelspec": {
   "display_name": "Python 3",
   "language": "python",
   "name": "python3"
  },
  "language_info": {
   "codemirror_mode": {
    "name": "ipython",
    "version": 3
   },
   "file_extension": ".py",
   "mimetype": "text/x-python",
   "name": "python",
   "nbconvert_exporter": "python",
   "pygments_lexer": "ipython3",
   "version": "3.8.8"
  }
 },
 "nbformat": 4,
 "nbformat_minor": 5
}
