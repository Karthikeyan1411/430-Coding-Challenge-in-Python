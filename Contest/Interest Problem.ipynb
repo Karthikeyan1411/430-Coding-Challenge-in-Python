{
 "cells": [
  {
   "cell_type": "code",
   "execution_count": 1,
   "id": "13883a6c",
   "metadata": {},
   "outputs": [
    {
     "data": {
      "text/plain": [
       "'Example:\\n    Input:\\n        X1 = 100\\n        R1 = 5\\n        x2 = 50\\n        R2 = 10\\n    Output:\\n        EQUAL\\n    Explanation:\\n        Raja owes 5% of Rs.100 which is Rs.5 as interest money to A,\\n        and the same amount to B (10% of Rs.50).'"
      ]
     },
     "execution_count": 1,
     "metadata": {},
     "output_type": "execute_result"
    }
   ],
   "source": [
    "'''Example:\n",
    "    Input:\n",
    "        X1 = 100\n",
    "        R1 = 5\n",
    "        x2 = 50\n",
    "        R2 = 10\n",
    "    Output:\n",
    "        EQUAL\n",
    "    Explanation:\n",
    "        Raja owes 5% of Rs.100 which is Rs.5 as interest money to A,\n",
    "        and the same amount to B (10% of Rs.50).'''"
   ]
  },
  {
   "cell_type": "code",
   "execution_count": 2,
   "id": "d1f30ff5",
   "metadata": {},
   "outputs": [
    {
     "name": "stdout",
     "output_type": "stream",
     "text": [
      "1\n",
      "100 5 50 10\n",
      "EQUAL\n"
     ]
    }
   ],
   "source": [
    "class Solution:\n",
    "    def Payday(self, x1, r1, x2, r2):\n",
    "        #code here\n",
    "        a = (x1*r1)/100\n",
    "        b = (x2*r2)/100\n",
    "        \n",
    "        if a>b:\n",
    "            return \"A\"\n",
    "        elif a<b:\n",
    "            return \"B\"\n",
    "        else:\n",
    "            return \"EQUAL\"\n",
    "        \n",
    "if __name__ == \"__main__\":\n",
    "    t = int(input())\n",
    "    while t>0:\n",
    "        sz = list(map(int, input().strip().split()))\n",
    "        x1, r1, x2, r2 = sz[0], sz[1], sz[2], sz[3]\n",
    "        ob = Solution()\n",
    "        ans = ob.Payday(x1, r1, x2, r2)\n",
    "        print(ans)\n",
    "        t -= 1"
   ]
  },
  {
   "cell_type": "code",
   "execution_count": null,
   "id": "99532f13",
   "metadata": {},
   "outputs": [],
   "source": []
  }
 ],
 "metadata": {
  "kernelspec": {
   "display_name": "Python 3",
   "language": "python",
   "name": "python3"
  },
  "language_info": {
   "codemirror_mode": {
    "name": "ipython",
    "version": 3
   },
   "file_extension": ".py",
   "mimetype": "text/x-python",
   "name": "python",
   "nbconvert_exporter": "python",
   "pygments_lexer": "ipython3",
   "version": "3.8.8"
  },
  "vp": {
   "vp_config_version": "1.0.0",
   "vp_menu_width": 273,
   "vp_note_display": false,
   "vp_note_width": 0,
   "vp_position": {
    "width": 278
   },
   "vp_section_display": false,
   "vp_signature": "VisualPython"
  }
 },
 "nbformat": 4,
 "nbformat_minor": 5
}
