{
 "cells": [
  {
   "cell_type": "code",
   "execution_count": 1,
   "id": "4e48c459",
   "metadata": {},
   "outputs": [
    {
     "data": {
      "text/plain": [
       "'Raja, a devoted boyfriend, wants to surprise his girlfriend Regina with a beautiful bouquet of roses. \\nRaja has a rose garden with N roses, each of which has a certain value associated with it. However, \\nRaja faces a unique challenge in choosing the roses for the bouquet. He must select a consecutive \\nsequence of roses in such a way that the greatest common divisor (GCD) of the values of all the \\nchosen roses is less than or equal to a given number, K.\\nRaja seeks your help in finding the number of ways he can create the bouquet while adhering to this \\nGCD constraint. Can you help him find the solution?'"
      ]
     },
     "execution_count": 1,
     "metadata": {},
     "output_type": "execute_result"
    }
   ],
   "source": [
    "'''Raja, a devoted boyfriend, wants to surprise his girlfriend Regina with a beautiful bouquet of roses. \n",
    "Raja has a rose garden with N roses, each of which has a certain value associated with it. However, \n",
    "Raja faces a unique challenge in choosing the roses for the bouquet. He must select a consecutive \n",
    "sequence of roses in such a way that the greatest common divisor (GCD) of the values of all the \n",
    "chosen roses is less than or equal to a given number, K.\n",
    "Raja seeks your help in finding the number of ways he can create the bouquet while adhering to this \n",
    "GCD constraint. Can you help him find the solution?'''\n"
   ]
  },
  {
   "cell_type": "code",
   "execution_count": 2,
   "id": "84155eb0",
   "metadata": {},
   "outputs": [
    {
     "data": {
      "text/plain": [
       "'Example:\\n    Input:\\n        N = 4\\n        K = 3\\n        arr = [4, 8, 5, 11]\\n    Output:\\n        5\\n    Explanation:\\n        The subarrays (bouquets) satisfying the gcd constraint are [4,8,5], \\n        [4,8,5,11], [8,5,11], [5,11], [8,5].'"
      ]
     },
     "execution_count": 2,
     "metadata": {},
     "output_type": "execute_result"
    }
   ],
   "source": [
    "'''Example:\n",
    "    Input:\n",
    "        N = 4\n",
    "        K = 3\n",
    "        arr = [4, 8, 5, 11]\n",
    "    Output:\n",
    "        5\n",
    "    Explanation:\n",
    "        The subarrays (bouquets) satisfying the gcd constraint are [4,8,5], \n",
    "        [4,8,5,11], [8,5,11], [5,11], [8,5].'''"
   ]
  },
  {
   "cell_type": "code",
   "execution_count": 3,
   "id": "29752182",
   "metadata": {},
   "outputs": [
    {
     "name": "stdout",
     "output_type": "stream",
     "text": [
      "1\n",
      "4 3\n",
      "4 8 5 11\n",
      "5\n"
     ]
    }
   ],
   "source": [
    "class Solution:\n",
    "    def CountBouquets(self, n, k, arr):\n",
    "        #code here\n",
    "        count = 0\n",
    "        for i in range(n):\n",
    "            c_gcd = arr[i]\n",
    "            for j in range(i, n):\n",
    "                c_gcd = gcd(c_gcd, arr[j])\n",
    "                if c_gcd <= k:\n",
    "                    count += 1\n",
    "        return count\n",
    "\n",
    "def gcd(a, b):\n",
    "    if b==0:\n",
    "        return a\n",
    "    return gcd(b, a%b)\n",
    "        \n",
    "if __name__ == \"__main__\":\n",
    "    t = int(input())\n",
    "    while t>0:\n",
    "        sz = list(map(int, input().strip().split()))\n",
    "        n, k = sz[0], sz[1]\n",
    "        arr = list(map(int, input().strip().split()))\n",
    "        ob = Solution()\n",
    "        ans = ob.CountBouquets(n, k, arr)\n",
    "        print(ans)\n",
    "        t-=1"
   ]
  },
  {
   "cell_type": "code",
   "execution_count": null,
   "id": "6f66ae66",
   "metadata": {},
   "outputs": [],
   "source": []
  }
 ],
 "metadata": {
  "kernelspec": {
   "display_name": "Python 3",
   "language": "python",
   "name": "python3"
  },
  "language_info": {
   "codemirror_mode": {
    "name": "ipython",
    "version": 3
   },
   "file_extension": ".py",
   "mimetype": "text/x-python",
   "name": "python",
   "nbconvert_exporter": "python",
   "pygments_lexer": "ipython3",
   "version": "3.8.8"
  },
  "vp": {
   "vp_config_version": "1.0.0",
   "vp_menu_width": 273,
   "vp_note_display": false,
   "vp_note_width": 0,
   "vp_position": {
    "width": 278
   },
   "vp_section_display": false,
   "vp_signature": "VisualPython"
  }
 },
 "nbformat": 4,
 "nbformat_minor": 5
}
