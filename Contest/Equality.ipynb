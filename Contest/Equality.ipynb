{
 "cells": [
  {
   "cell_type": "code",
   "execution_count": 1,
   "id": "29a56a70",
   "metadata": {},
   "outputs": [
    {
     "data": {
      "text/plain": [
       "\"You are given two integers, A and B. Determine if A can be transformed\\ninto B through a series of special operations. In each operation, if A is\\nodd, add 1 to it; if A is even, add 2 to it. Check if it's possible to reach B\\nafter performing a certain number of these operations.\\nReturn 1 if it's possible, otherwise return 0.\""
      ]
     },
     "execution_count": 1,
     "metadata": {},
     "output_type": "execute_result"
    }
   ],
   "source": [
    "'''You are given two integers, A and B. Determine if A can be transformed\n",
    "into B through a series of special operations. In each operation, if A is\n",
    "odd, add 1 to it; if A is even, add 2 to it. Check if it's possible to reach B\n",
    "after performing a certain number of these operations.\n",
    "Return 1 if it's possible, otherwise return 0.'''"
   ]
  },
  {
   "cell_type": "code",
   "execution_count": 3,
   "id": "d31c72f3",
   "metadata": {},
   "outputs": [
    {
     "data": {
      "text/plain": [
       "'\\nExample 2:\\n    Input:\\n        A = 8\\n        B = 9\\n    Output:\\n        0\\n    Explanation:\\n        We cannot add 1 as A is even and adding 2 makes it greater than\\n        B. So we can never obtain the condition of A == B.'"
      ]
     },
     "execution_count": 3,
     "metadata": {},
     "output_type": "execute_result"
    }
   ],
   "source": [
    "'''Example 1:\n",
    "    Input:\n",
    "        A = 3\n",
    "        B = 6\n",
    "    Output:\n",
    "        1\n",
    "    Explanation:\n",
    "        Add 1 to A as A is odd -> A = 4\n",
    "        Add 2 to A as A is even -> A = 6\n",
    "        Hence by doing this steps, we converted A -> B\n",
    "        i.e. A == B is obtained.'''\n",
    "'''\n",
    "Example 2:\n",
    "    Input:\n",
    "        A = 8\n",
    "        B = 9\n",
    "    Output:\n",
    "        0\n",
    "    Explanation:\n",
    "        We cannot add 1 as A is even and adding 2 makes it greater than\n",
    "        B. So we can never obtain the condition of A == B.'''"
   ]
  },
  {
   "cell_type": "code",
   "execution_count": 5,
   "id": "6a06ed4b",
   "metadata": {},
   "outputs": [
    {
     "name": "stdout",
     "output_type": "stream",
     "text": [
      "1\n",
      "3\n",
      "6\n",
      "1\n"
     ]
    }
   ],
   "source": [
    "#Solution 1\n",
    "class Solution:\n",
    "    def equality(self, A, B):\n",
    "        #code here\n",
    "        if A==B:\n",
    "            return 1\n",
    "        elif A>B:\n",
    "            return 0\n",
    "        elif B%2==0:\n",
    "            return 1\n",
    "        else:\n",
    "            return 0\n",
    "            \n",
    "\n",
    "if __name__ == \"__main__\":\n",
    "    t = int(input())\n",
    "    while t>0:\n",
    "        A = int(input())\n",
    "        B = int(input())\n",
    "        ob = Solution()\n",
    "        ans = ob.equality(A, B)\n",
    "        print(ans)\n",
    "        t -= 1"
   ]
  },
  {
   "cell_type": "code",
   "execution_count": 6,
   "id": "939672f4",
   "metadata": {},
   "outputs": [
    {
     "name": "stdout",
     "output_type": "stream",
     "text": [
      "1\n",
      "3\n",
      "6\n",
      "1\n"
     ]
    }
   ],
   "source": [
    "#Solution 2\n",
    "class Solution:\n",
    "    def equality(self, A, B):\n",
    "        #code here\n",
    "        if A==B or (A<=B and B%2):\n",
    "            return 1\n",
    "        else:\n",
    "            return 0\n",
    "            \n",
    "\n",
    "if __name__ == \"__main__\":\n",
    "    t = int(input())\n",
    "    while t>0:\n",
    "        A = int(input())\n",
    "        B = int(input())\n",
    "        ob = Solution()\n",
    "        ans = ob.equality(A, B)\n",
    "        print(ans)\n",
    "        t -= 1"
   ]
  },
  {
   "cell_type": "code",
   "execution_count": null,
   "id": "bd81471e",
   "metadata": {},
   "outputs": [],
   "source": []
  }
 ],
 "metadata": {
  "kernelspec": {
   "display_name": "Python 3",
   "language": "python",
   "name": "python3"
  },
  "language_info": {
   "codemirror_mode": {
    "name": "ipython",
    "version": 3
   },
   "file_extension": ".py",
   "mimetype": "text/x-python",
   "name": "python",
   "nbconvert_exporter": "python",
   "pygments_lexer": "ipython3",
   "version": "3.8.8"
  },
  "vp": {
   "vp_config_version": "1.0.0",
   "vp_menu_width": 273,
   "vp_note_display": false,
   "vp_note_width": 0,
   "vp_position": {
    "width": 278
   },
   "vp_section_display": false,
   "vp_signature": "VisualPython"
  }
 },
 "nbformat": 4,
 "nbformat_minor": 5
}
