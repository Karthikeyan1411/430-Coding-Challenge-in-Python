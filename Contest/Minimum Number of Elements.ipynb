{
 "cells": [
  {
   "cell_type": "code",
   "execution_count": 1,
   "id": "91861864",
   "metadata": {},
   "outputs": [],
   "source": [
    "#Minimum Number of Elements"
   ]
  },
  {
   "cell_type": "code",
   "execution_count": 3,
   "id": "e128bd38",
   "metadata": {},
   "outputs": [
    {
     "data": {
      "text/plain": [
       "'You are given 2 integer arrays, arr1 of size n and arr2 of size m. Find\\nthe minimum number of elements, that are needed to be chosen from arr2, \\nso that their sum is atleast the sum of all elements of arr1. If it is not\\npossible, then return -1.\\n\\nNote: Each element from arr2 can only be selected once.'"
      ]
     },
     "execution_count": 3,
     "metadata": {},
     "output_type": "execute_result"
    }
   ],
   "source": [
    "\"\"\"You are given 2 integer arrays, arr1 of size n and arr2 of size m. Find\n",
    "the minimum number of elements, that are needed to be chosen from arr2, \n",
    "so that their sum is atleast the sum of all elements of arr1. If it is not\n",
    "possible, then return -1.\n",
    "\n",
    "Note: Each element from arr2 can only be selected once.\"\"\""
   ]
  },
  {
   "cell_type": "code",
   "execution_count": 4,
   "id": "6b6f9877",
   "metadata": {},
   "outputs": [
    {
     "data": {
      "text/plain": [
       "\"Example:\\n    Input: \\n        n = 3\\n        m = 5\\n        arr1 = {1, 3, 2}\\n        arr2 = {4, 3, 1, 5, 2}\\n    Output:\\n        2\\n    Explanation:\\n        We can choose the elements 4 and 5 from arr2, as their sum (4+5=9) is\\n        greater than the sum of arr1(1+3+2=6). It can be proven that the answer\\n        to this testcase can't be less than 2.\""
      ]
     },
     "execution_count": 4,
     "metadata": {},
     "output_type": "execute_result"
    }
   ],
   "source": [
    "'''Example:\n",
    "    Input: \n",
    "        n = 3\n",
    "        m = 5\n",
    "        arr1 = {1, 3, 2}\n",
    "        arr2 = {4, 3, 1, 5, 2}\n",
    "    Output:\n",
    "        2\n",
    "    Explanation:\n",
    "        We can choose the elements 4 and 5 from arr2, as their sum (4+5=9) is\n",
    "        greater than the sum of arr1(1+3+2=6). It can be proven that the answer\n",
    "        to this testcase can't be less than 2.'''"
   ]
  },
  {
   "cell_type": "code",
   "execution_count": 10,
   "id": "33ec45ce",
   "metadata": {},
   "outputs": [
    {
     "name": "stdout",
     "output_type": "stream",
     "text": [
      "1\n",
      "3\n",
      "5\n",
      "1 3 2\n",
      "4 3 1 5 2\n",
      "2\n"
     ]
    }
   ],
   "source": [
    "class Solution:\n",
    "    def minElements(self, n:int, m:int, arr1:[int], arr2:[int]) -> int:\n",
    "        #code here\n",
    "        a1 = sorted(arr1)\n",
    "        a2 = sorted(arr2)\n",
    "        \n",
    "        ar1 = a1[-2:]\n",
    "        ar2 = a2[-2:]\n",
    "        \n",
    "        k1 = sum(ar1)\n",
    "        k2 = sum(ar2)\n",
    "        \n",
    "        for i in range(0,n,1):\n",
    "            if k2<=sum(arr1) or k2>=sum(arr1):\n",
    "                return 2\n",
    "            elif k1<=sum(arr2) or k2>=sum(arr2):\n",
    "                return 2\n",
    "            else:\n",
    "                return 1\n",
    "        return -1\n",
    "\n",
    "class IntArray:\n",
    "    def __init__(self) -> None:\n",
    "        pass\n",
    "    def Input(self, n):\n",
    "        arr = [int(i) for i in input().strip().split()]\n",
    "        return arr\n",
    "    def Print(self, arr):\n",
    "        for i in arr:\n",
    "            print(i, end=\" \")\n",
    "        print()\n",
    "\n",
    "if __name__ == \"__main__\":\n",
    "    t = int(input())\n",
    "    while t>0:\n",
    "        n = int(input())\n",
    "        m = int(input())\n",
    "        ob = IntArray()\n",
    "        arr1 = ob.Input(n)\n",
    "        arr2 = ob.Input(m)\n",
    "        a = Solution()\n",
    "        l = a.minElements(n,m,arr1, arr2)\n",
    "        print(l)\n",
    "        t -= 1"
   ]
  },
  {
   "cell_type": "code",
   "execution_count": null,
   "id": "41e51337",
   "metadata": {},
   "outputs": [],
   "source": []
  }
 ],
 "metadata": {
  "kernelspec": {
   "display_name": "Python 3",
   "language": "python",
   "name": "python3"
  },
  "language_info": {
   "codemirror_mode": {
    "name": "ipython",
    "version": 3
   },
   "file_extension": ".py",
   "mimetype": "text/x-python",
   "name": "python",
   "nbconvert_exporter": "python",
   "pygments_lexer": "ipython3",
   "version": "3.8.8"
  },
  "vp": {
   "vp_config_version": "1.0.0",
   "vp_menu_width": 273,
   "vp_note_display": false,
   "vp_note_width": 0,
   "vp_position": {
    "width": 278
   },
   "vp_section_display": false,
   "vp_signature": "VisualPython"
  }
 },
 "nbformat": 4,
 "nbformat_minor": 5
}
