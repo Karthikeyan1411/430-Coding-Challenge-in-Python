{
 "cells": [
  {
   "cell_type": "code",
   "execution_count": 1,
   "id": "dcbafe93",
   "metadata": {},
   "outputs": [
    {
     "data": {
      "text/plain": [
       "'Raja is appearing for the coding contest. The aim of the contest is to score exactly N points. \\nHe is given an integer k, before the start of the contest. For each problem he solves during \\nthe contest, he is asked to choose an integer m, and m^k is added to his score.\\nHelp Raja find the minimum number of problems he must solve to achieve exactly N points.\\n\\nNote: For each different problem, he can choose different values of m but the value of k is \\nsame for all problems.'"
      ]
     },
     "execution_count": 1,
     "metadata": {},
     "output_type": "execute_result"
    }
   ],
   "source": [
    "'''Raja is appearing for the coding contest. The aim of the contest is to score exactly N points. \n",
    "He is given an integer k, before the start of the contest. For each problem he solves during \n",
    "the contest, he is asked to choose an integer m, and m^k is added to his score.\n",
    "Help Raja find the minimum number of problems he must solve to achieve exactly N points.\n",
    "\n",
    "Note: For each different problem, he can choose different values of m but the value of k is \n",
    "same for all problems.'''"
   ]
  },
  {
   "cell_type": "code",
   "execution_count": 2,
   "id": "586152bb",
   "metadata": {},
   "outputs": [
    {
     "data": {
      "text/plain": [
       "'Example:\\n    Input:\\n        N = 12\\n        K = 2\\n    Output:\\n        3\\n    Explanation:\\n        He can solve three problems, and choose m = 2 for all of them.\\n        Hence, 2^2 + 2^2 + 2^2 = 12.'"
      ]
     },
     "execution_count": 2,
     "metadata": {},
     "output_type": "execute_result"
    }
   ],
   "source": [
    "'''Example:\n",
    "    Input:\n",
    "        N = 12\n",
    "        K = 2\n",
    "    Output:\n",
    "        3\n",
    "    Explanation:\n",
    "        He can solve three problems, and choose m = 2 for all of them.\n",
    "        Hence, 2^2 + 2^2 + 2^2 = 12.'''"
   ]
  },
  {
   "cell_type": "code",
   "execution_count": 3,
   "id": "d545f9a2",
   "metadata": {},
   "outputs": [
    {
     "name": "stdout",
     "output_type": "stream",
     "text": [
      "1\n",
      "12 2\n",
      "3\n"
     ]
    }
   ],
   "source": [
    "class Solution:\n",
    "    def score(self, n, k):\n",
    "        #code here\n",
    "        dp = [float('inf')] * (n+1)\n",
    "        dp[0] = 0\n",
    "        for i in range(1, n+1):\n",
    "            for m in range(1, int(i**(1/k)) + 1):\n",
    "                dp[i] = min(dp[i], dp[i- m**k] + 1)\n",
    "        return dp[n]\n",
    "        \n",
    "if __name__ == \"__main__\":\n",
    "    t = int(input())\n",
    "    while t>0:\n",
    "        sz = list(map(int, input().strip().split()))\n",
    "        n, k = sz[0], sz[1]\n",
    "        ob = Solution()\n",
    "        ans = ob.score(n, k)\n",
    "        print(ans)\n",
    "        t -= 1"
   ]
  },
  {
   "cell_type": "code",
   "execution_count": null,
   "id": "12cc6000",
   "metadata": {},
   "outputs": [],
   "source": []
  }
 ],
 "metadata": {
  "kernelspec": {
   "display_name": "Python 3",
   "language": "python",
   "name": "python3"
  },
  "language_info": {
   "codemirror_mode": {
    "name": "ipython",
    "version": 3
   },
   "file_extension": ".py",
   "mimetype": "text/x-python",
   "name": "python",
   "nbconvert_exporter": "python",
   "pygments_lexer": "ipython3",
   "version": "3.8.8"
  },
  "vp": {
   "vp_config_version": "1.0.0",
   "vp_menu_width": 273,
   "vp_note_display": false,
   "vp_note_width": 0,
   "vp_position": {
    "width": 278
   },
   "vp_section_display": false,
   "vp_signature": "VisualPython"
  }
 },
 "nbformat": 4,
 "nbformat_minor": 5
}
