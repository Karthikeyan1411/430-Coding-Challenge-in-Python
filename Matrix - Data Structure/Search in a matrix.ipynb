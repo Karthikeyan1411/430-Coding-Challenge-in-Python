{
 "cells": [
  {
   "cell_type": "code",
   "execution_count": 14,
   "id": "227f6fa6",
   "metadata": {},
   "outputs": [
    {
     "name": "stdout",
     "output_type": "stream",
     "text": [
      "3 4\n",
      "1 3 5 7\n",
      "10 11 16 20\n",
      "23 30 34 60\n",
      "2\n",
      "3\n",
      "True\n",
      "\n",
      "13\n",
      "False\n",
      "\n"
     ]
    }
   ],
   "source": [
    "class Solution:\n",
    "    def searchMatrix(self, matrix, target):\n",
    "        #code here\n",
    "        for i in matrix:\n",
    "            if target in i:\n",
    "                return True\n",
    "            else:\n",
    "                continue\n",
    "        return False\n",
    "        \n",
    "if __name__ == \"__main__\":\n",
    "    sz = list(map(int, input().strip().split()))\n",
    "    row, col = sz[0], sz[1]\n",
    "    mat = []\n",
    "    for _ in range(row):\n",
    "        mat.append(list(map(int, input().strip().split())))\n",
    "            \n",
    "    t = int(input())\n",
    "    while t>0:\n",
    "        target = int(input())\n",
    "        ob = Solution()\n",
    "        ans = ob.searchMatrix(mat, target)\n",
    "        print(ans)\n",
    "        print()\n",
    "        t -= 1"
   ]
  },
  {
   "cell_type": "code",
   "execution_count": null,
   "id": "0ae0a58e",
   "metadata": {},
   "outputs": [],
   "source": []
  }
 ],
 "metadata": {
  "kernelspec": {
   "display_name": "Python 3",
   "language": "python",
   "name": "python3"
  },
  "language_info": {
   "codemirror_mode": {
    "name": "ipython",
    "version": 3
   },
   "file_extension": ".py",
   "mimetype": "text/x-python",
   "name": "python",
   "nbconvert_exporter": "python",
   "pygments_lexer": "ipython3",
   "version": "3.8.8"
  },
  "vp": {
   "vp_config_version": "1.0.0",
   "vp_menu_width": 273,
   "vp_note_display": false,
   "vp_note_width": 0,
   "vp_position": {
    "width": 278
   },
   "vp_section_display": false,
   "vp_signature": "VisualPython"
  }
 },
 "nbformat": 4,
 "nbformat_minor": 5
}
