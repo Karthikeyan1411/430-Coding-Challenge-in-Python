{
 "cells": [
  {
   "cell_type": "code",
   "execution_count": 3,
   "id": "f2980bfb",
   "metadata": {},
   "outputs": [
    {
     "name": "stdout",
     "output_type": "stream",
     "text": [
      "2\n",
      "3\n",
      "1 2 3 4 5 6 7 8 9\n",
      "3 6 9 2 5 8 1 4 7 \n",
      "2\n",
      "1 2 3 4\n",
      "2 4 1 3 \n"
     ]
    }
   ],
   "source": [
    "class Solution:\n",
    "    def rotateby90(self, a, n):\n",
    "        #code here\n",
    "        for row in a:\n",
    "            row.reverse()\n",
    "        for i in range(n):\n",
    "            for j in range(i, n):\n",
    "                a[i][j], a[j][i] = a[j][i], a[i][j]\n",
    "        return a\n",
    "        \n",
    "if __name__ == \"__main__\":\n",
    "    t = int(input())\n",
    "    while t>0:\n",
    "        n = int(input())\n",
    "        mat = [[0 for j in range(n)] for i in range(n)]\n",
    "        line1 = [int(x) for x in input().strip().split()]\n",
    "        k = 0\n",
    "        for i in range(n):\n",
    "            for j in range(n):\n",
    "                mat[i][j] = line1[k]\n",
    "                k += 1\n",
    "        ob = Solution()\n",
    "        ob.rotateby90(mat, n)\n",
    "        for i in range(n):\n",
    "            for j in range(n):\n",
    "                print(mat[i][j], end=\" \")\n",
    "        print()\n",
    "        t -= 1"
   ]
  },
  {
   "cell_type": "code",
   "execution_count": null,
   "id": "4d4d3ffb",
   "metadata": {},
   "outputs": [],
   "source": []
  }
 ],
 "metadata": {
  "kernelspec": {
   "display_name": "Python 3",
   "language": "python",
   "name": "python3"
  },
  "language_info": {
   "codemirror_mode": {
    "name": "ipython",
    "version": 3
   },
   "file_extension": ".py",
   "mimetype": "text/x-python",
   "name": "python",
   "nbconvert_exporter": "python",
   "pygments_lexer": "ipython3",
   "version": "3.8.8"
  },
  "vp": {
   "vp_config_version": "1.0.0",
   "vp_menu_width": 273,
   "vp_note_display": false,
   "vp_note_width": 0,
   "vp_position": {
    "width": 278
   },
   "vp_section_display": false,
   "vp_signature": "VisualPython"
  }
 },
 "nbformat": 4,
 "nbformat_minor": 5
}
