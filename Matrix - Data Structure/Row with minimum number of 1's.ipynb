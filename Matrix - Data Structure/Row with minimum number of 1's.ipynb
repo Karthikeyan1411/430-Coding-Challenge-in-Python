{
 "cells": [
  {
   "cell_type": "code",
   "execution_count": 2,
   "id": "aad5ac1c",
   "metadata": {},
   "outputs": [
    {
     "name": "stdout",
     "output_type": "stream",
     "text": [
      "2\n",
      "4 4\n",
      "1 1 1 1\n",
      "1 1 0 0\n",
      "0 0 1 1\n",
      "1 1 1 1\n",
      "2\n",
      "3 3\n",
      "0 0 0\n",
      "0 0 0\n",
      "0 0 0\n",
      "1\n"
     ]
    }
   ],
   "source": [
    "class Solution:\n",
    "    def minRow(self, n, m, a):\n",
    "        #code here\n",
    "        min_count = float('inf')\n",
    "        index = -1\n",
    "        for i in range(n):\n",
    "            count = 0\n",
    "            for j in range(m):\n",
    "                if a[i][j] == 1:\n",
    "                    count += 1\n",
    "            if count < min_count:\n",
    "                min_count = count\n",
    "                index = i+1\n",
    "        return index\n",
    "\n",
    "if __name__ == \"__main__\":\n",
    "    t = int(input())\n",
    "    for _ in range(t):\n",
    "        n, m = map(int, input().strip().split())\n",
    "        a = []\n",
    "        for i in range(n):\n",
    "            b = list(map(int, input().strip().split()))\n",
    "            a.append(b)\n",
    "        ob = Solution()\n",
    "        print(ob.minRow(n, m, a))\n",
    "        \n",
    "        t -= 1"
   ]
  },
  {
   "cell_type": "code",
   "execution_count": null,
   "id": "89d6e55c",
   "metadata": {},
   "outputs": [],
   "source": []
  }
 ],
 "metadata": {
  "kernelspec": {
   "display_name": "Python 3",
   "language": "python",
   "name": "python3"
  },
  "language_info": {
   "codemirror_mode": {
    "name": "ipython",
    "version": 3
   },
   "file_extension": ".py",
   "mimetype": "text/x-python",
   "name": "python",
   "nbconvert_exporter": "python",
   "pygments_lexer": "ipython3",
   "version": "3.8.8"
  },
  "vp": {
   "vp_config_version": "1.0.0",
   "vp_menu_width": 273,
   "vp_note_display": false,
   "vp_note_width": 0,
   "vp_position": {
    "width": 278
   },
   "vp_section_display": false,
   "vp_signature": "VisualPython"
  }
 },
 "nbformat": 4,
 "nbformat_minor": 5
}
