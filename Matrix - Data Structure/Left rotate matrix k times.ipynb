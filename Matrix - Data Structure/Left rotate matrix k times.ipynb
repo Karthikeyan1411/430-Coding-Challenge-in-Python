{
 "cells": [
  {
   "cell_type": "code",
   "execution_count": 6,
   "id": "20ed7e39",
   "metadata": {},
   "outputs": [
    {
     "name": "stdout",
     "output_type": "stream",
     "text": [
      "2\n",
      "3 3 1\n",
      "1 2 3\n",
      "4 5 6\n",
      "7 8 9\n",
      "2 3 1 \n",
      "5 6 4 \n",
      "8 9 7 \n",
      "\n",
      "3 3 2\n",
      "1 2 3\n",
      "4 5 6\n",
      "7 8 9\n",
      "3 1 2 \n",
      "6 4 5 \n",
      "9 7 8 \n",
      "\n"
     ]
    }
   ],
   "source": [
    "class Solution:\n",
    "    def rotateMatrix(self, N, M, K, Mat):\n",
    "        #code here\n",
    "        rot = [[0] * M for _ in range(N)]\n",
    "        for i in range(N):\n",
    "            for j in range(M):\n",
    "                rot[i][(j-K)%M] = Mat[i][j]\n",
    "        return rot\n",
    "        \n",
    "if __name__ == \"__main__\":\n",
    "    t = int(input())\n",
    "    for _ in range(t):\n",
    "        n, m, k = map(int, input().strip().split())\n",
    "        mat = []\n",
    "        for i in range(n):\n",
    "            mat.append(list(map(int, input().strip().split())))\n",
    "        ob = Solution()\n",
    "        ans = ob.rotateMatrix(n, m, k, mat)\n",
    "        for i in range(n):\n",
    "            for j in range(m):\n",
    "                print(ans[i][j], end = \" \")\n",
    "            print()\n",
    "            \n",
    "        print()\n",
    "            \n",
    "        t -= 1"
   ]
  },
  {
   "cell_type": "code",
   "execution_count": null,
   "id": "e10750fa",
   "metadata": {},
   "outputs": [],
   "source": []
  }
 ],
 "metadata": {
  "kernelspec": {
   "display_name": "Python 3",
   "language": "python",
   "name": "python3"
  },
  "language_info": {
   "codemirror_mode": {
    "name": "ipython",
    "version": 3
   },
   "file_extension": ".py",
   "mimetype": "text/x-python",
   "name": "python",
   "nbconvert_exporter": "python",
   "pygments_lexer": "ipython3",
   "version": "3.8.8"
  },
  "vp": {
   "vp_config_version": "1.0.0",
   "vp_menu_width": 273,
   "vp_note_display": false,
   "vp_note_width": 0,
   "vp_position": {
    "width": 278
   },
   "vp_section_display": false,
   "vp_signature": "VisualPython"
  }
 },
 "nbformat": 4,
 "nbformat_minor": 5
}
