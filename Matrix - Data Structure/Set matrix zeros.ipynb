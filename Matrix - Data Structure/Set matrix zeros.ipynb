{
 "cells": [
  {
   "cell_type": "code",
   "execution_count": 13,
   "id": "5dfa9142",
   "metadata": {},
   "outputs": [
    {
     "name": "stdout",
     "output_type": "stream",
     "text": [
      "1\n",
      "3\n",
      "1 1 1 1 0 1 1 1 1\n",
      "[1, 0, 1] [0, 0, 0] [1, 0, 1] \n"
     ]
    }
   ],
   "source": [
    "class Solution:\n",
    "    def setZeros(self, matrix):\n",
    "        #code here\n",
    "        n = len(matrix)\n",
    "        m = len(matrix[0])\n",
    "        z_row, z_col = set(), set()\n",
    "        for i in range(n):\n",
    "            for j in range(m):\n",
    "                if matrix[i][j] == 0:\n",
    "                    z_row.add(i)\n",
    "                    z_col.add(i)\n",
    "        \n",
    "        for i in z_row:\n",
    "            for j in range(m):\n",
    "                matrix[i][j] = 0\n",
    "        \n",
    "        for j in z_col:\n",
    "            for i in range(n):\n",
    "                matrix[i][j] = 0\n",
    "                \n",
    "        return matrix\n",
    "        \n",
    "if __name__ == \"__main__\":\n",
    "    t = int(input())\n",
    "    while t>0:\n",
    "        n = list(map(int, input().strip().split()))\n",
    "        arr = list(map(int, input().strip().split()))\n",
    "        mat = [[0 for i in range(n[0])] for j in range(n[0])]\n",
    "        k = 0\n",
    "        for i in range(n[0]):\n",
    "            for j in range(n[0]):\n",
    "                mat[i][j] = arr[k]\n",
    "                k+=1\n",
    "        a = Solution().setZeros(mat)\n",
    "        for x in a:\n",
    "            print(x, end=\" \")\n",
    "        print()\n",
    "        \n",
    "        t -= 1"
   ]
  },
  {
   "cell_type": "code",
   "execution_count": null,
   "id": "625cefd2",
   "metadata": {},
   "outputs": [],
   "source": [
    "f"
   ]
  }
 ],
 "metadata": {
  "kernelspec": {
   "display_name": "Python 3",
   "language": "python",
   "name": "python3"
  },
  "language_info": {
   "codemirror_mode": {
    "name": "ipython",
    "version": 3
   },
   "file_extension": ".py",
   "mimetype": "text/x-python",
   "name": "python",
   "nbconvert_exporter": "python",
   "pygments_lexer": "ipython3",
   "version": "3.8.8"
  },
  "vp": {
   "vp_config_version": "1.0.0",
   "vp_menu_width": 273,
   "vp_note_display": false,
   "vp_note_width": 0,
   "vp_position": {
    "width": 278
   },
   "vp_section_display": false,
   "vp_signature": "VisualPython"
  }
 },
 "nbformat": 4,
 "nbformat_minor": 5
}
