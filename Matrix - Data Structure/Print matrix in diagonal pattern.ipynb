{
 "cells": [
  {
   "cell_type": "code",
   "execution_count": 5,
   "id": "dfe6658f",
   "metadata": {},
   "outputs": [
    {
     "name": "stdout",
     "output_type": "stream",
     "text": [
      "2\n",
      "3\n",
      "1 2 3 4 5 6 7 8 9\n",
      "1 2 4 7 5 3 6 8 9 \n",
      "2\n",
      "1 2 3 4\n",
      "1 2 3 4 \n"
     ]
    }
   ],
   "source": [
    "class Solution:\n",
    "    def matrixDiagonally(self, mat):\n",
    "        #code here\n",
    "        n = len(mat)\n",
    "        sum_mat = [[] for _ in range(n+n-1)]\n",
    "        \n",
    "        for i in range(n):\n",
    "            for j in range(n):\n",
    "                sum_i = i+j\n",
    "                sum_mat[sum_i].append(mat[i][j])\n",
    "        \n",
    "        for i in range(len(sum_mat)):\n",
    "            if i%2 == 0:\n",
    "                sum_mat[i] = sum_mat[i][::-1]\n",
    "        \n",
    "        ans = []\n",
    "        for i in sum_mat:\n",
    "            #ans.append(i)\n",
    "            ans.extend(i)\n",
    "        return ans\n",
    "            \n",
    "        \n",
    "if __name__ == \"__main__\":\n",
    "    t = int(input())\n",
    "    for i in range(t):\n",
    "        n = list(map(int, input().strip().split()))\n",
    "        arr = list(map(int, input().strip().split()))\n",
    "        mat = [[0 for i in range(n[0])] for j in range(n[0])]\n",
    "        k = 0\n",
    "        for i in range(n[0]):\n",
    "            for j in range(n[0]):\n",
    "                mat[i][j] = arr[k]\n",
    "                k+=1\n",
    "        a = Solution().matrixDiagonally(mat)\n",
    "        for x in a:\n",
    "            print(x, end=\" \")\n",
    "        print()\n",
    "        \n",
    "        t -= 1"
   ]
  },
  {
   "cell_type": "code",
   "execution_count": null,
   "id": "74011fce",
   "metadata": {},
   "outputs": [],
   "source": [
    "'''Input:\n",
    "n = 3\n",
    "mat[][] = {{1, 2, 3},\n",
    "           {4, 5, 6},\n",
    "           {7, 8, 9}}\n",
    "Output: {1, 2, 4, 7, 5, 3, 6, 8, 9}\n",
    "Explaination:\n",
    "Starting from (0, 0): 1,\n",
    "Move to the right to (0, 1): 2,\n",
    "Move diagonally down to (1, 0): 4,\n",
    "Move diagonally down to (2, 0): 7,\n",
    "Move diagonally up to (1, 1): 5,\n",
    "Move diagonally up to (0, 2): 3,\n",
    "Move to the right to (1, 2): 6,\n",
    "Move diagonally up to (2, 1): 8,\n",
    "Move diagonally up to (2, 2): 9\n",
    "There for the output is {1, 2, 4, 7, 5, 3, 6, 8, 9}.'''"
   ]
  }
 ],
 "metadata": {
  "kernelspec": {
   "display_name": "Python 3",
   "language": "python",
   "name": "python3"
  },
  "language_info": {
   "codemirror_mode": {
    "name": "ipython",
    "version": 3
   },
   "file_extension": ".py",
   "mimetype": "text/x-python",
   "name": "python",
   "nbconvert_exporter": "python",
   "pygments_lexer": "ipython3",
   "version": "3.8.8"
  },
  "vp": {
   "vp_config_version": "1.0.0",
   "vp_menu_width": 273,
   "vp_note_display": false,
   "vp_note_width": 0,
   "vp_position": {
    "width": 278
   },
   "vp_section_display": false,
   "vp_signature": "VisualPython"
  }
 },
 "nbformat": 4,
 "nbformat_minor": 5
}
